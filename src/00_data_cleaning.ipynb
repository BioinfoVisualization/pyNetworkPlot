{
 "cells": [
  {
   "cell_type": "code",
   "execution_count": null,
   "id": "a0b2c71d",
   "metadata": {},
   "outputs": [],
   "source": [
    "import numpy as np\n",
    "import pandas as pd"
   ]
  },
  {
   "cell_type": "code",
   "execution_count": null,
   "id": "a713d490",
   "metadata": {},
   "outputs": [],
   "source": [
    "pd.set_option('display.max_columns',None)"
   ]
  },
  {
   "cell_type": "code",
   "execution_count": null,
   "id": "a1dcc9f1",
   "metadata": {},
   "outputs": [],
   "source": [
    "DF = pd.read_csv('../data/newclusters220921.csv')\n",
    "DF"
   ]
  },
  {
   "cell_type": "code",
   "execution_count": null,
   "id": "eb879576",
   "metadata": {},
   "outputs": [],
   "source": [
    "TCR = pd.read_csv('../../../TCR_clonality/results/output_data/TCR_metadataset.csv',sep=',')\n",
    "TCR"
   ]
  },
  {
   "cell_type": "code",
   "execution_count": null,
   "id": "3cdcb14e",
   "metadata": {},
   "outputs": [],
   "source": [
    "TCR.columns[TCR.columns.str.contains('cloneAB')]"
   ]
  },
  {
   "cell_type": "code",
   "execution_count": null,
   "id": "7db5ded4",
   "metadata": {},
   "outputs": [],
   "source": [
    "TCR['cloneAB_descr_aa']"
   ]
  },
  {
   "cell_type": "code",
   "execution_count": null,
   "id": "8d6262d1",
   "metadata": {},
   "outputs": [],
   "source": []
  },
  {
   "cell_type": "code",
   "execution_count": null,
   "id": "aee3b8a1",
   "metadata": {},
   "outputs": [],
   "source": []
  },
  {
   "cell_type": "code",
   "execution_count": null,
   "id": "d5af5b3c",
   "metadata": {},
   "outputs": [],
   "source": [
    "DF0.to_excel('../data/Plasma_all_patients.xlsx')"
   ]
  },
  {
   "cell_type": "code",
   "execution_count": null,
   "id": "58406c0d",
   "metadata": {},
   "outputs": [],
   "source": [
    "for p in DF0['Patient ID'].unique():\n",
    "    DF = DF0.loc[DF0['Patient ID']==p,\\\n",
    "                 ['V.D.J.REGION.AA.sequence of H','Full VH-VL','Any N-glyc']]\n",
    "    name = '../data/N_gyc_' + p + '.xlsx'\n",
    "    DF.columns = ['VDJ_REGION_AA_sequence_of_H','Full_VH_VL','Any_N_glyc']\n",
    "    DF.to_excel(name)"
   ]
  },
  {
   "cell_type": "code",
   "execution_count": null,
   "id": "f2db9e47",
   "metadata": {},
   "outputs": [],
   "source": []
  },
  {
   "cell_type": "code",
   "execution_count": null,
   "id": "47e41def",
   "metadata": {},
   "outputs": [],
   "source": []
  },
  {
   "cell_type": "code",
   "execution_count": null,
   "id": "b1360a85",
   "metadata": {},
   "outputs": [],
   "source": [
    "sheets = [0,1,2,3]\n",
    "patients = ['273','254','268','274']\n",
    "for s in range(len(sheets)):\n",
    "    DF = pd.read_excel('../data/220910 All plasma cells with HCDR3 expansion .xlsx',\\\n",
    "                         sheet_name=sheets[s])\n",
    "    new_columns = ['receptor revision','lineage','V.D.J.REGION.AA.sequence of H']\n",
    "    new_columns = new_columns + [DF.columns[DF.columns.str.contains('Full VH')][0]]\n",
    "    DF = DF.loc[:,new_columns]\n",
    "    DF.columns = ['receptor_revision','lineage','VDJ_REGION_AA_sequence_of_H','Full_VH_VL']\n",
    "    DF.to_excel('../data/P' + patients[s] + '.xlsx')"
   ]
  },
  {
   "cell_type": "code",
   "execution_count": null,
   "id": "24fece34",
   "metadata": {},
   "outputs": [],
   "source": []
  },
  {
   "cell_type": "code",
   "execution_count": null,
   "id": "4c59da64",
   "metadata": {},
   "outputs": [],
   "source": []
  },
  {
   "cell_type": "code",
   "execution_count": null,
   "id": "26594809",
   "metadata": {},
   "outputs": [],
   "source": [
    "DF1 = pd.read_excel('../data/220910 All plasma cells with HCDR3 expansion .xlsx',sheet_name=0)\n",
    "DF2 = pd.read_excel('../data/220910 All plasma cells with HCDR3 expansion .xlsx',sheet_name=1)\n",
    "DF3 = pd.read_excel('../data/220910 All plasma cells with HCDR3 expansion .xlsx',sheet_name=2)\n",
    "DF4 = pd.read_excel('../data/220910 All plasma cells with HCDR3 expansion .xlsx',sheet_name=3)"
   ]
  },
  {
   "cell_type": "code",
   "execution_count": null,
   "id": "0b0512a4",
   "metadata": {},
   "outputs": [],
   "source": []
  },
  {
   "cell_type": "code",
   "execution_count": null,
   "id": "fc1924c7",
   "metadata": {
    "scrolled": true
   },
   "outputs": [],
   "source": [
    "DF1.to_excel?"
   ]
  },
  {
   "cell_type": "code",
   "execution_count": null,
   "id": "ad56949f",
   "metadata": {},
   "outputs": [],
   "source": [
    "DF1.columns.values"
   ]
  },
  {
   "cell_type": "code",
   "execution_count": null,
   "id": "ed825b73",
   "metadata": {},
   "outputs": [],
   "source": [
    "DF1.loc[:,['receptor revision','lineage','V.D.J.REGION.AA.sequence of H','Full VH-VL',\\\n",
    "          'Any N-glyc']]"
   ]
  }
 ],
 "metadata": {
  "kernelspec": {
   "display_name": "network_ravi",
   "language": "python",
   "name": "network_ravi"
  },
  "language_info": {
   "codemirror_mode": {
    "name": "ipython",
    "version": 3
   },
   "file_extension": ".py",
   "mimetype": "text/x-python",
   "name": "python",
   "nbconvert_exporter": "python",
   "pygments_lexer": "ipython3",
   "version": "3.8.12"
  }
 },
 "nbformat": 4,
 "nbformat_minor": 5
}
