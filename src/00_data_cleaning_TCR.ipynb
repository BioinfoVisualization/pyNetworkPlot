{
 "cells": [
  {
   "cell_type": "code",
   "execution_count": null,
   "id": "a0b2c71d",
   "metadata": {},
   "outputs": [],
   "source": [
    "import sys, os\n",
    "import numpy as np\n",
    "import pandas as pd"
   ]
  },
  {
   "cell_type": "code",
   "execution_count": null,
   "id": "f1455696",
   "metadata": {},
   "outputs": [],
   "source": [
    "module_path = os.path.abspath(os.path.join('..', 'bin'))\n",
    "if module_path not in sys.path:\n",
    "    sys.path.append(module_path)"
   ]
  },
  {
   "cell_type": "code",
   "execution_count": null,
   "id": "0f65057a",
   "metadata": {},
   "outputs": [],
   "source": [
    "# from ../bin/\n",
    "import data_functions as filt"
   ]
  },
  {
   "cell_type": "code",
   "execution_count": null,
   "id": "a713d490",
   "metadata": {},
   "outputs": [],
   "source": [
    "pd.set_option('display.max_columns',None)"
   ]
  },
  {
   "cell_type": "code",
   "execution_count": null,
   "id": "eb879576",
   "metadata": {},
   "outputs": [],
   "source": [
    "TCR = pd.read_csv('../../../TCR_clonality/results/output_data/TCR_metadataset.csv',\n",
    "                  sep=',',index_col=0)\n",
    "#TCR = TCR.loc[DF.index]\n",
    "TCR"
   ]
  },
  {
   "cell_type": "code",
   "execution_count": null,
   "id": "01e4fff3",
   "metadata": {},
   "outputs": [],
   "source": [
    "TCR['cloneGD_descr_aa']"
   ]
  },
  {
   "cell_type": "code",
   "execution_count": null,
   "id": "242f160a",
   "metadata": {},
   "outputs": [],
   "source": [
    "TCR_GD = TCR.copy()"
   ]
  },
  {
   "cell_type": "code",
   "execution_count": null,
   "id": "68fb2409",
   "metadata": {},
   "outputs": [],
   "source": [
    "seqs = []\n",
    "for i,c in TCR_GD.iterrows():\n",
    "    c = c['cloneGD_descr_aa'][2:-2]\n",
    "    chains = c.split(\"', '\")\n",
    "    if len(chains)==1:\n",
    "        seqs.append('')\n",
    "    else:\n",
    "        seqs.append(''.join(chains))\n",
    "TCR_GD.insert(len(TCR_GD.columns),'seq_aa_GD',seqs)\n",
    "TCR_GD"
   ]
  },
  {
   "cell_type": "code",
   "execution_count": null,
   "id": "a1857cd5",
   "metadata": {},
   "outputs": [],
   "source": [
    "GD = TCR_GD.loc[TCR_GD['seq_aa_GD']!='','seq_aa_GD']"
   ]
  },
  {
   "cell_type": "code",
   "execution_count": null,
   "id": "aa0a0798",
   "metadata": {},
   "outputs": [],
   "source": [
    "TCR_GD.loc[TCR_GD['seq_aa_GD']!='','seq_aa_GD']\\\n",
    ".to_csv('../../../MYOSITIS/results/datasets/GD_Cells.tsv',sep='\\t')"
   ]
  },
  {
   "cell_type": "code",
   "execution_count": null,
   "id": "594eff22",
   "metadata": {},
   "outputs": [],
   "source": [
    "seqs = []\n",
    "for i,c in TCR.iterrows():\n",
    "    c = c['cloneAB_descr_aa'][2:-2]\n",
    "    chains = c.split(\"', '\")\n",
    "    if len(chains)==1:\n",
    "        seqs.append('')\n",
    "    else:\n",
    "        seqs.append(''.join(chains))\n",
    "TCR.insert(len(TCR.columns),'seq_aa_AB',seqs)\n",
    "TCR"
   ]
  },
  {
   "cell_type": "code",
   "execution_count": null,
   "id": "a1dcc9f1",
   "metadata": {},
   "outputs": [],
   "source": [
    "DF = pd.read_csv('../data/newclusters220921.csv',index_col=0)\n",
    "DF"
   ]
  },
  {
   "cell_type": "code",
   "execution_count": null,
   "id": "7db5ded4",
   "metadata": {},
   "outputs": [],
   "source": [
    "DF.insert(3,'Sequence',TCR['seq_aa_AB'])\n",
    "DF = DF.loc[~(DF['Sequence']==''),:]\n",
    "DF"
   ]
  },
  {
   "cell_type": "code",
   "execution_count": null,
   "id": "ff6c0a42",
   "metadata": {},
   "outputs": [],
   "source": [
    "filt.group_with_freq?"
   ]
  },
  {
   "cell_type": "code",
   "execution_count": null,
   "id": "dbea6c41",
   "metadata": {},
   "outputs": [],
   "source": [
    "for p in DF['patient_ID'].unique():\n",
    "    out_name = '../../../MYOSITIS/results/datasets/data4flower_'+str(p)+'.tsv'\n",
    "    df = DF.loc[DF['patient_ID']==p]\n",
    "    df = filt.group_with_freq(df,'Sequence',group_unique=True)\n",
    "    df.to_csv(out_name,sep='\\t')"
   ]
  },
  {
   "cell_type": "code",
   "execution_count": null,
   "id": "bfef09e0",
   "metadata": {},
   "outputs": [],
   "source": [
    "df"
   ]
  },
  {
   "cell_type": "markdown",
   "id": "588fc802",
   "metadata": {},
   "source": [
    "# NAIVE-TREATED"
   ]
  },
  {
   "cell_type": "code",
   "execution_count": null,
   "id": "7f160406",
   "metadata": {},
   "outputs": [],
   "source": [
    "P2 = pd.read_csv('../../../MYOSITIS/data/external_data/FLOWER_naivetreated_Pt2.csv'\n",
    "                 ,sep=',',index_col=0)\n",
    "P4 = pd.read_csv('../../../MYOSITIS/data/external_data/FLOWER_naivetreated_Pt4.csv'\n",
    "                 ,sep=',',index_col=0)"
   ]
  },
  {
   "cell_type": "code",
   "execution_count": null,
   "id": "7efbdc31",
   "metadata": {},
   "outputs": [],
   "source": [
    "P2 = pd.concat([P2,TCR.loc[P2.index,'seq_aa_AB']],axis=1)\n",
    "P2_M = P2.loc[(P2['seq_aa_AB']!='')&(P2['tissue']=='MUSL'),:]\n",
    "P2_PB = P2.loc[(P2['seq_aa_AB']!='')&(P2['tissue']=='PB'),:]"
   ]
  },
  {
   "cell_type": "code",
   "execution_count": null,
   "id": "7426cf56",
   "metadata": {},
   "outputs": [],
   "source": [
    "P4 = pd.concat([P4,TCR.loc[P4.index,'seq_aa_AB']],axis=1)\n",
    "P4_M = P4.loc[(P4['seq_aa_AB']!='')&(P4['tissue']=='MUSL'),:]\n",
    "P4_PB = P4.loc[(P4['seq_aa_AB']!='')&(P4['tissue']=='PB'),:]"
   ]
  },
  {
   "cell_type": "code",
   "execution_count": null,
   "id": "8aad9651",
   "metadata": {},
   "outputs": [],
   "source": [
    "P4_M"
   ]
  },
  {
   "cell_type": "code",
   "execution_count": null,
   "id": "f7ac6995",
   "metadata": {},
   "outputs": [],
   "source": [
    "P4_M.to_csv('../../../MYOSITIS/results/datasets/data4flower_P4M_naive-treat.tsv',sep='\\t')\n",
    "P4_PB.to_csv('../../../MYOSITIS/results/datasets/data4flower_P4PB_naive-treat.tsv',sep='\\t')\n",
    "P2_M.to_csv('../../../MYOSITIS/results/datasets/data4flower_P2M_naive-treat.tsv',sep='\\t')\n",
    "P2_PB.to_csv('../../../MYOSITIS/results/datasets/data4flower_P2PB_naive-treat.tsv',sep='\\t')"
   ]
  },
  {
   "cell_type": "code",
   "execution_count": null,
   "id": "bcba4c51",
   "metadata": {},
   "outputs": [],
   "source": []
  }
 ],
 "metadata": {
  "kernelspec": {
   "display_name": "network_ravi",
   "language": "python",
   "name": "network_ravi"
  },
  "language_info": {
   "codemirror_mode": {
    "name": "ipython",
    "version": 3
   },
   "file_extension": ".py",
   "mimetype": "text/x-python",
   "name": "python",
   "nbconvert_exporter": "python",
   "pygments_lexer": "ipython3",
   "version": "3.8.12"
  }
 },
 "nbformat": 4,
 "nbformat_minor": 5
}
