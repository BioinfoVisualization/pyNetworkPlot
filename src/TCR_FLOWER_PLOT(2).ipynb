{
 "cells": [
  {
   "cell_type": "markdown",
   "id": "7025dc95",
   "metadata": {},
   "source": [
    "# TCR FLOWER PLOT\n",
    "**Author: Juan Sebastian Diaz Boada**<br>\n",
    "*juan.sebastian.diaz.boada@ki.se*<br>\n",
    "26/01/22<br>\n",
    "Kernel: `network_ravi`<br>"
   ]
  },
  {
   "cell_type": "code",
   "execution_count": 1,
   "id": "8955c3b6",
   "metadata": {},
   "outputs": [],
   "source": [
    "import sys, os\n",
    "import numpy as np\n",
    "import pandas as pd\n",
    "from matplotlib import pyplot as plt\n",
    "from polyleven import levenshtein as poly_lev\n",
    "from collections import defaultdict\n",
    "import igraph as ig\n",
    "import random # layout seed\n",
    "import cairo as cr\n",
    "from igraph.drawing.text import TextDrawer\n",
    "from math import pi # Legend circles\n",
    "import blosum as bl"
   ]
  },
  {
   "cell_type": "code",
   "execution_count": 2,
   "id": "4fcd0071",
   "metadata": {},
   "outputs": [],
   "source": [
    "module_path = os.path.abspath(os.path.join('..', 'bin'))\n",
    "if module_path not in sys.path:\n",
    "    sys.path.append(module_path)"
   ]
  },
  {
   "cell_type": "code",
   "execution_count": 3,
   "id": "cb6b9217",
   "metadata": {},
   "outputs": [],
   "source": [
    "# from ../bin\n",
    "import spring_functions as kxs\n",
    "from data_functions import group_with_freq"
   ]
  },
  {
   "cell_type": "markdown",
   "id": "830db574",
   "metadata": {},
   "source": [
    "## Parameters"
   ]
  },
  {
   "cell_type": "code",
   "execution_count": 4,
   "id": "4d5a37f3",
   "metadata": {},
   "outputs": [],
   "source": [
    "pd.set_option('display.max_columns',None)"
   ]
  },
  {
   "cell_type": "markdown",
   "id": "638c7414",
   "metadata": {},
   "source": [
    "#### Data parameters"
   ]
  },
  {
   "cell_type": "code",
   "execution_count": 5,
   "id": "be238687",
   "metadata": {},
   "outputs": [],
   "source": [
    "in_file = '../data/network_data.csv'\n",
    "file_type = in_file.split('.')[-1]\n",
    "if file_type == 'tsv':\n",
    "    DF = pd.read_csv(in_file,sep='\\t',index_col=0).reset_index(drop=True)\n",
    "elif file_type == 'xlsx':\n",
    "    DF = pd.read_excel(in_file,index_col=0)\n",
    "elif file_type == 'csv':\n",
    "    DF = pd.read_csv(in_file,sep=',',index_col=0).reset_index(drop=True)\n",
    "else:\n",
    "    raise NameError(\"Invalid input format. Has to be either .tsv, .csv or .xlsx.\")"
   ]
  },
  {
   "cell_type": "code",
   "execution_count": 6,
   "id": "2e896375",
   "metadata": {},
   "outputs": [],
   "source": [
    "out_file = '../results/NETWORK_PLOT.pdf'\n",
    "seq_col = 'aaSeqCDR3.xy'\n",
    "color_col = 'Sort_platform'\n",
    "shape_col = 'Site'\n",
    "size_col = 'minQualFR4.y'\n",
    "min_seq2show = 0 # integer\n",
    "group_unique = True # Boolean"
   ]
  },
  {
   "cell_type": "markdown",
   "id": "462d718f",
   "metadata": {},
   "source": [
    "#### Figure parameters"
   ]
  },
  {
   "cell_type": "code",
   "execution_count": 7,
   "id": "f2c20a90",
   "metadata": {},
   "outputs": [],
   "source": [
    "# Similarity threshold\n",
    "similarity = 0 # non-negative integer\n",
    "layout_name = 'FR' # Can be FR, DH, DrL, GO, LgL, MDS\n",
    "unit=50\n",
    "edge_width = 1.5\n",
    "max_node_size=50\n",
    "min_node_size=5"
   ]
  },
  {
   "cell_type": "markdown",
   "id": "29b0d61c",
   "metadata": {},
   "source": [
    "# Data"
   ]
  },
  {
   "cell_type": "code",
   "execution_count": 36,
   "id": "c10aa9e3",
   "metadata": {},
   "outputs": [
    {
     "data": {
      "text/html": [
       "<div>\n",
       "<style scoped>\n",
       "    .dataframe tbody tr th:only-of-type {\n",
       "        vertical-align: middle;\n",
       "    }\n",
       "\n",
       "    .dataframe tbody tr th {\n",
       "        vertical-align: top;\n",
       "    }\n",
       "\n",
       "    .dataframe thead th {\n",
       "        text-align: right;\n",
       "    }\n",
       "</style>\n",
       "<table border=\"1\" class=\"dataframe\">\n",
       "  <thead>\n",
       "    <tr style=\"text-align: right;\">\n",
       "      <th></th>\n",
       "      <th>aaSeqCDR3.xy</th>\n",
       "      <th>Site</th>\n",
       "      <th>HLA_type</th>\n",
       "      <th>Sort_platform</th>\n",
       "      <th>minQualFR4.y</th>\n",
       "    </tr>\n",
       "  </thead>\n",
       "  <tbody>\n",
       "    <tr>\n",
       "      <th>0</th>\n",
       "      <td>CAVSDDKIIFCASSQGVGEYTDTQYF</td>\n",
       "      <td>PB</td>\n",
       "      <td>*04:04</td>\n",
       "      <td>SONY SH800</td>\n",
       "      <td>23</td>\n",
       "    </tr>\n",
       "    <tr>\n",
       "      <th>1</th>\n",
       "      <td>CARPPLRDTGNQFYFCASSEQEGIRQFF</td>\n",
       "      <td>SF</td>\n",
       "      <td>*04:04</td>\n",
       "      <td>INFLUX</td>\n",
       "      <td>22</td>\n",
       "    </tr>\n",
       "    <tr>\n",
       "      <th>2</th>\n",
       "      <td>CAVRDLLEGQNFVFCASSLGTEEIYEQYF</td>\n",
       "      <td>SF</td>\n",
       "      <td>*04:04</td>\n",
       "      <td>INFLUX</td>\n",
       "      <td>24</td>\n",
       "    </tr>\n",
       "    <tr>\n",
       "      <th>3</th>\n",
       "      <td>CALREWMDSSYKLIFCASTQDLNPGTEQFF</td>\n",
       "      <td>SF</td>\n",
       "      <td>*04:04</td>\n",
       "      <td>Influx</td>\n",
       "      <td>15</td>\n",
       "    </tr>\n",
       "    <tr>\n",
       "      <th>4</th>\n",
       "      <td>CAVEDTDSWGKLQFCASSRQEGNSPLHF</td>\n",
       "      <td>SF</td>\n",
       "      <td>*04:04</td>\n",
       "      <td>Influx</td>\n",
       "      <td>21</td>\n",
       "    </tr>\n",
       "    <tr>\n",
       "      <th>...</th>\n",
       "      <td>...</td>\n",
       "      <td>...</td>\n",
       "      <td>...</td>\n",
       "      <td>...</td>\n",
       "      <td>...</td>\n",
       "    </tr>\n",
       "    <tr>\n",
       "      <th>245</th>\n",
       "      <td>CAMLGFSDGQKLLFCASSLLTGARYGYTF</td>\n",
       "      <td>PB</td>\n",
       "      <td>*04:04</td>\n",
       "      <td>Influx</td>\n",
       "      <td>26</td>\n",
       "    </tr>\n",
       "    <tr>\n",
       "      <th>246</th>\n",
       "      <td>CAMLGFSDGQKLLFCASSLLTGARYGYTF</td>\n",
       "      <td>PB</td>\n",
       "      <td>*04:04</td>\n",
       "      <td>Influx</td>\n",
       "      <td>23</td>\n",
       "    </tr>\n",
       "    <tr>\n",
       "      <th>247</th>\n",
       "      <td>CAMLGFSDGQKLLFCASSLLTGARYGYTF</td>\n",
       "      <td>PB</td>\n",
       "      <td>*04:04</td>\n",
       "      <td>Influx</td>\n",
       "      <td>22</td>\n",
       "    </tr>\n",
       "    <tr>\n",
       "      <th>248</th>\n",
       "      <td>CAMLGFSDGQKLLFCASSLLTGARYGYTF</td>\n",
       "      <td>PB</td>\n",
       "      <td>*04:04</td>\n",
       "      <td>Influx</td>\n",
       "      <td>15</td>\n",
       "    </tr>\n",
       "    <tr>\n",
       "      <th>249</th>\n",
       "      <td>CAMLGFSDGQKLLFCASSLLTGARYGYTF</td>\n",
       "      <td>PB</td>\n",
       "      <td>*04:04</td>\n",
       "      <td>Influx</td>\n",
       "      <td>21</td>\n",
       "    </tr>\n",
       "  </tbody>\n",
       "</table>\n",
       "<p>250 rows × 5 columns</p>\n",
       "</div>"
      ],
      "text/plain": [
       "                       aaSeqCDR3.xy Site HLA_type Sort_platform  minQualFR4.y\n",
       "0        CAVSDDKIIFCASSQGVGEYTDTQYF   PB   *04:04    SONY SH800            23\n",
       "1      CARPPLRDTGNQFYFCASSEQEGIRQFF   SF   *04:04        INFLUX            22\n",
       "2     CAVRDLLEGQNFVFCASSLGTEEIYEQYF   SF   *04:04        INFLUX            24\n",
       "3    CALREWMDSSYKLIFCASTQDLNPGTEQFF   SF   *04:04        Influx            15\n",
       "4      CAVEDTDSWGKLQFCASSRQEGNSPLHF   SF   *04:04        Influx            21\n",
       "..                              ...  ...      ...           ...           ...\n",
       "245   CAMLGFSDGQKLLFCASSLLTGARYGYTF   PB   *04:04        Influx            26\n",
       "246   CAMLGFSDGQKLLFCASSLLTGARYGYTF   PB   *04:04        Influx            23\n",
       "247   CAMLGFSDGQKLLFCASSLLTGARYGYTF   PB   *04:04        Influx            22\n",
       "248   CAMLGFSDGQKLLFCASSLLTGARYGYTF   PB   *04:04        Influx            15\n",
       "249   CAMLGFSDGQKLLFCASSLLTGARYGYTF   PB   *04:04        Influx            21\n",
       "\n",
       "[250 rows x 5 columns]"
      ]
     },
     "execution_count": 36,
     "metadata": {},
     "output_type": "execute_result"
    }
   ],
   "source": [
    "df = DF.copy()\n",
    "df"
   ]
  },
  {
   "cell_type": "code",
   "execution_count": null,
   "id": "0febc52b",
   "metadata": {},
   "outputs": [],
   "source": [
    "df.insert(len(df.columns),'node_size',35)\n",
    "df.loc[df['freq_Sequence']<30,'node_size']=30\n",
    "df.loc[df['freq_Sequence']<15,'node_size']=25\n",
    "df.loc[df['freq_Sequence']<5,'node_size']=20\n",
    "df.loc[df['freq_Sequence']==1,'node_size']=10\n",
    "df"
   ]
  },
  {
   "cell_type": "code",
   "execution_count": 37,
   "id": "0398b0e2",
   "metadata": {},
   "outputs": [
    {
     "data": {
      "text/html": [
       "<div>\n",
       "<style scoped>\n",
       "    .dataframe tbody tr th:only-of-type {\n",
       "        vertical-align: middle;\n",
       "    }\n",
       "\n",
       "    .dataframe tbody tr th {\n",
       "        vertical-align: top;\n",
       "    }\n",
       "\n",
       "    .dataframe thead th {\n",
       "        text-align: right;\n",
       "    }\n",
       "</style>\n",
       "<table border=\"1\" class=\"dataframe\">\n",
       "  <thead>\n",
       "    <tr style=\"text-align: right;\">\n",
       "      <th></th>\n",
       "      <th>aaSeqCDR3.xy</th>\n",
       "      <th>Site</th>\n",
       "      <th>HLA_type</th>\n",
       "      <th>Sort_platform</th>\n",
       "      <th>minQualFR4.y</th>\n",
       "      <th>freq_aaSeqCDR3.xy</th>\n",
       "      <th>group_aaSeqCDR3.xy</th>\n",
       "    </tr>\n",
       "  </thead>\n",
       "  <tbody>\n",
       "    <tr>\n",
       "      <th>180</th>\n",
       "      <td>CAASENYGQNFVFCASTTGTTYGYTF</td>\n",
       "      <td>PB</td>\n",
       "      <td>*04:04</td>\n",
       "      <td>Sony SH800</td>\n",
       "      <td>23</td>\n",
       "      <td>29</td>\n",
       "      <td>0</td>\n",
       "    </tr>\n",
       "    <tr>\n",
       "      <th>203</th>\n",
       "      <td>CAASENYGQNFVFCASTTGTTYGYTF</td>\n",
       "      <td>PB</td>\n",
       "      <td>*04:04</td>\n",
       "      <td>Sony SH800</td>\n",
       "      <td>23</td>\n",
       "      <td>29</td>\n",
       "      <td>0</td>\n",
       "    </tr>\n",
       "    <tr>\n",
       "      <th>182</th>\n",
       "      <td>CAASENYGQNFVFCASTTGTTYGYTF</td>\n",
       "      <td>PB</td>\n",
       "      <td>*04:04</td>\n",
       "      <td>Sony SH800</td>\n",
       "      <td>23</td>\n",
       "      <td>29</td>\n",
       "      <td>0</td>\n",
       "    </tr>\n",
       "    <tr>\n",
       "      <th>227</th>\n",
       "      <td>CAASENYGQNFVFCASTTGTTYGYTF</td>\n",
       "      <td>PB</td>\n",
       "      <td>*04:04</td>\n",
       "      <td>Sony SH800</td>\n",
       "      <td>23</td>\n",
       "      <td>29</td>\n",
       "      <td>0</td>\n",
       "    </tr>\n",
       "    <tr>\n",
       "      <th>225</th>\n",
       "      <td>CAASENYGQNFVFCASTTGTTYGYTF</td>\n",
       "      <td>PB</td>\n",
       "      <td>*04:04</td>\n",
       "      <td>Sony SH800</td>\n",
       "      <td>24</td>\n",
       "      <td>29</td>\n",
       "      <td>0</td>\n",
       "    </tr>\n",
       "    <tr>\n",
       "      <th>...</th>\n",
       "      <td>...</td>\n",
       "      <td>...</td>\n",
       "      <td>...</td>\n",
       "      <td>...</td>\n",
       "      <td>...</td>\n",
       "      <td>...</td>\n",
       "      <td>...</td>\n",
       "    </tr>\n",
       "    <tr>\n",
       "      <th>147</th>\n",
       "      <td>CAVNEGTYKYIFCASSLGTGGGETQYF</td>\n",
       "      <td>PB</td>\n",
       "      <td>*04:04</td>\n",
       "      <td>Sony SH800</td>\n",
       "      <td>16</td>\n",
       "      <td>1</td>\n",
       "      <td>-1</td>\n",
       "    </tr>\n",
       "    <tr>\n",
       "      <th>137</th>\n",
       "      <td>CAVNEGTYKYIFCASSQEREGPTGELFF</td>\n",
       "      <td>PB</td>\n",
       "      <td>*04:04</td>\n",
       "      <td>Sony SH800</td>\n",
       "      <td>18</td>\n",
       "      <td>1</td>\n",
       "      <td>-1</td>\n",
       "    </tr>\n",
       "    <tr>\n",
       "      <th>2</th>\n",
       "      <td>CAVRDLLEGQNFVFCASSLGTEEIYEQYF</td>\n",
       "      <td>SF</td>\n",
       "      <td>*04:04</td>\n",
       "      <td>INFLUX</td>\n",
       "      <td>24</td>\n",
       "      <td>1</td>\n",
       "      <td>-1</td>\n",
       "    </tr>\n",
       "    <tr>\n",
       "      <th>91</th>\n",
       "      <td>CAVRVNTGRRALTFCASSPRQGLQETQYF</td>\n",
       "      <td>PB</td>\n",
       "      <td>*04:04</td>\n",
       "      <td>Sony SH800</td>\n",
       "      <td>21</td>\n",
       "      <td>1</td>\n",
       "      <td>-1</td>\n",
       "    </tr>\n",
       "    <tr>\n",
       "      <th>54</th>\n",
       "      <td>CAAAISGSARQLTFCASSLRQGNTDTQYF</td>\n",
       "      <td>SF</td>\n",
       "      <td>*04:04</td>\n",
       "      <td>Influx</td>\n",
       "      <td>25</td>\n",
       "      <td>1</td>\n",
       "      <td>-1</td>\n",
       "    </tr>\n",
       "  </tbody>\n",
       "</table>\n",
       "<p>250 rows × 7 columns</p>\n",
       "</div>"
      ],
      "text/plain": [
       "                      aaSeqCDR3.xy Site HLA_type Sort_platform  minQualFR4.y  \\\n",
       "180     CAASENYGQNFVFCASTTGTTYGYTF   PB   *04:04    Sony SH800            23   \n",
       "203     CAASENYGQNFVFCASTTGTTYGYTF   PB   *04:04    Sony SH800            23   \n",
       "182     CAASENYGQNFVFCASTTGTTYGYTF   PB   *04:04    Sony SH800            23   \n",
       "227     CAASENYGQNFVFCASTTGTTYGYTF   PB   *04:04    Sony SH800            23   \n",
       "225     CAASENYGQNFVFCASTTGTTYGYTF   PB   *04:04    Sony SH800            24   \n",
       "..                             ...  ...      ...           ...           ...   \n",
       "147    CAVNEGTYKYIFCASSLGTGGGETQYF   PB   *04:04    Sony SH800            16   \n",
       "137   CAVNEGTYKYIFCASSQEREGPTGELFF   PB   *04:04    Sony SH800            18   \n",
       "2    CAVRDLLEGQNFVFCASSLGTEEIYEQYF   SF   *04:04        INFLUX            24   \n",
       "91   CAVRVNTGRRALTFCASSPRQGLQETQYF   PB   *04:04    Sony SH800            21   \n",
       "54   CAAAISGSARQLTFCASSLRQGNTDTQYF   SF   *04:04        Influx            25   \n",
       "\n",
       "     freq_aaSeqCDR3.xy  group_aaSeqCDR3.xy  \n",
       "180                 29                   0  \n",
       "203                 29                   0  \n",
       "182                 29                   0  \n",
       "227                 29                   0  \n",
       "225                 29                   0  \n",
       "..                 ...                 ...  \n",
       "147                  1                  -1  \n",
       "137                  1                  -1  \n",
       "2                    1                  -1  \n",
       "91                   1                  -1  \n",
       "54                   1                  -1  \n",
       "\n",
       "[250 rows x 7 columns]"
      ]
     },
     "execution_count": 37,
     "metadata": {},
     "output_type": "execute_result"
    }
   ],
   "source": [
    "df = group_with_freq(df,seq_col,group_unique).sort_values('freq_'+seq_col,ascending=False)\n",
    "#df = df.loc[df['freq_'+seq_col]!=1,:]\n",
    "df"
   ]
  },
  {
   "cell_type": "code",
   "execution_count": 135,
   "id": "a32534ea",
   "metadata": {},
   "outputs": [
    {
     "data": {
      "text/plain": [
       "array([ 0,  1,  2,  3,  4,  5,  6,  8,  7, 10,  9, 11, 14, 15, 13, 12, 21,\n",
       "       26, 25, 24, 23, 22, 18, 20, 16, 17, 19, -1])"
      ]
     },
     "execution_count": 135,
     "metadata": {},
     "output_type": "execute_result"
    }
   ],
   "source": [
    "df.loc[:,'group_'+seq_col].unique()"
   ]
  },
  {
   "cell_type": "markdown",
   "id": "074e7957",
   "metadata": {},
   "source": [
    "# II. Distance matrix calculation"
   ]
  },
  {
   "cell_type": "code",
   "execution_count": 38,
   "id": "c914e0de",
   "metadata": {
    "scrolled": true
   },
   "outputs": [
    {
     "name": "stdout",
     "output_type": "stream",
     "text": [
      "0.00 % completed\n",
      "1.20 % completed\n",
      "2.40 % completed\n",
      "3.60 % completed\n",
      "4.80 % completed\n",
      "6.00 % completed\n",
      "7.20 % completed\n",
      "8.40 % completed\n",
      "9.60 % completed\n",
      "10.80 % completed\n",
      "12.00 % completed\n",
      "13.20 % completed\n",
      "14.40 % completed\n",
      "15.60 % completed\n",
      "16.80 % completed\n",
      "18.00 % completed\n",
      "19.20 % completed\n",
      "20.40 % completed\n",
      "21.60 % completed\n",
      "22.80 % completed\n",
      "24.00 % completed\n",
      "25.20 % completed\n",
      "26.40 % completed\n",
      "27.60 % completed\n",
      "28.80 % completed\n",
      "30.00 % completed\n",
      "31.20 % completed\n",
      "32.40 % completed\n",
      "33.60 % completed\n",
      "34.80 % completed\n",
      "36.00 % completed\n",
      "37.20 % completed\n",
      "38.40 % completed\n",
      "39.60 % completed\n",
      "40.80 % completed\n",
      "42.00 % completed\n",
      "43.20 % completed\n",
      "44.40 % completed\n",
      "45.60 % completed\n",
      "46.80 % completed\n",
      "48.00 % completed\n",
      "49.20 % completed\n",
      "50.40 % completed\n",
      "51.60 % completed\n",
      "52.80 % completed\n",
      "54.00 % completed\n",
      "55.20 % completed\n",
      "56.40 % completed\n",
      "57.60 % completed\n",
      "58.80 % completed\n",
      "60.00 % completed\n",
      "61.20 % completed\n",
      "62.40 % completed\n",
      "63.60 % completed\n",
      "64.80 % completed\n",
      "66.00 % completed\n",
      "67.20 % completed\n",
      "68.40 % completed\n",
      "69.60 % completed\n",
      "70.80 % completed\n",
      "72.00 % completed\n",
      "73.20 % completed\n",
      "74.40 % completed\n",
      "75.60 % completed\n",
      "76.80 % completed\n",
      "78.00 % completed\n",
      "79.20 % completed\n",
      "80.40 % completed\n",
      "81.60 % completed\n",
      "82.80 % completed\n",
      "84.00 % completed\n",
      "85.20 % completed\n",
      "86.40 % completed\n",
      "87.60 % completed\n",
      "88.80 % completed\n",
      "90.00 % completed\n",
      "91.20 % completed\n",
      "92.40 % completed\n",
      "93.60 % completed\n",
      "94.80 % completed\n",
      "96.00 % completed\n",
      "97.20 % completed\n",
      "98.40 % completed\n",
      "99.60 % completed\n"
     ]
    }
   ],
   "source": [
    "seqs = df[seq_col].values\n",
    "#idx2seq = {i:seq for i,seq in enumerate(seqs)}\n",
    "L = len(seqs)\n",
    "dist = np.zeros([L,L])\n",
    "t = np.ceil(L/100)\n",
    "for i in range(L):\n",
    "    for j in range(L):\n",
    "        dist[i,j]=poly_lev(seqs[i],seqs[j])\n",
    "    if i%t==0:\n",
    "        print(\"%.2f %% completed\"%(i*100/L))"
   ]
  },
  {
   "cell_type": "code",
   "execution_count": 39,
   "id": "95921d56",
   "metadata": {},
   "outputs": [],
   "source": [
    "# Definite adjacency and weight matrices\n",
    "eps = 0.1 # Distance delta\n",
    "adj = dist.copy()\n",
    "adj[adj<=similarity]=-1\n",
    "adj[adj>similarity]=0\n",
    "adj[adj==-1]=1\n",
    "W = np.multiply(adj,dist+eps)"
   ]
  },
  {
   "cell_type": "code",
   "execution_count": 40,
   "id": "43cd7d23",
   "metadata": {},
   "outputs": [
    {
     "data": {
      "text/plain": [
       "<matplotlib.colorbar.Colorbar at 0x7f64691e3940>"
      ]
     },
     "execution_count": 40,
     "metadata": {},
     "output_type": "execute_result"
    },
    {
     "data": {
      "image/png": "[encoded data removed]",
      "text/plain": [
       "<Figure size 432x288 with 2 Axes>"
      ]
     },
     "metadata": {
      "needs_background": "light"
     },
     "output_type": "display_data"
    }
   ],
   "source": [
    "plt.imshow(dist)\n",
    "plt.colorbar()"
   ]
  },
  {
   "cell_type": "markdown",
   "id": "ac87dce6",
   "metadata": {},
   "source": [
    "# III. Graph generation and plotting"
   ]
  },
  {
   "cell_type": "code",
   "execution_count": 127,
   "id": "c0126eec",
   "metadata": {},
   "outputs": [],
   "source": [
    "# Create graph object\n",
    "g = ig.Graph.Weighted_Adjacency(W,mode='undirected',attr='distance',loops=False)"
   ]
  },
  {
   "cell_type": "code",
   "execution_count": 131,
   "id": "ac764aff",
   "metadata": {},
   "outputs": [
    {
     "data": {
      "text/html": [
       "<div>\n",
       "<style scoped>\n",
       "    .dataframe tbody tr th:only-of-type {\n",
       "        vertical-align: middle;\n",
       "    }\n",
       "\n",
       "    .dataframe tbody tr th {\n",
       "        vertical-align: top;\n",
       "    }\n",
       "\n",
       "    .dataframe thead th {\n",
       "        text-align: right;\n",
       "    }\n",
       "</style>\n",
       "<table border=\"1\" class=\"dataframe\">\n",
       "  <thead>\n",
       "    <tr style=\"text-align: right;\">\n",
       "      <th></th>\n",
       "      <th>plot_cluster</th>\n",
       "      <th>freq_cluster</th>\n",
       "      <th>plot_cluster_reduced</th>\n",
       "    </tr>\n",
       "    <tr>\n",
       "      <th>vertex ID</th>\n",
       "      <th></th>\n",
       "      <th></th>\n",
       "      <th></th>\n",
       "    </tr>\n",
       "  </thead>\n",
       "  <tbody>\n",
       "    <tr>\n",
       "      <th>0</th>\n",
       "      <td>0</td>\n",
       "      <td>29</td>\n",
       "      <td>0</td>\n",
       "    </tr>\n",
       "    <tr>\n",
       "      <th>1</th>\n",
       "      <td>0</td>\n",
       "      <td>29</td>\n",
       "      <td>0</td>\n",
       "    </tr>\n",
       "    <tr>\n",
       "      <th>2</th>\n",
       "      <td>0</td>\n",
       "      <td>29</td>\n",
       "      <td>0</td>\n",
       "    </tr>\n",
       "    <tr>\n",
       "      <th>3</th>\n",
       "      <td>0</td>\n",
       "      <td>29</td>\n",
       "      <td>0</td>\n",
       "    </tr>\n",
       "    <tr>\n",
       "      <th>4</th>\n",
       "      <td>0</td>\n",
       "      <td>29</td>\n",
       "      <td>0</td>\n",
       "    </tr>\n",
       "    <tr>\n",
       "      <th>...</th>\n",
       "      <td>...</td>\n",
       "      <td>...</td>\n",
       "      <td>...</td>\n",
       "    </tr>\n",
       "    <tr>\n",
       "      <th>245</th>\n",
       "      <td>97</td>\n",
       "      <td>1</td>\n",
       "      <td>27</td>\n",
       "    </tr>\n",
       "    <tr>\n",
       "      <th>246</th>\n",
       "      <td>98</td>\n",
       "      <td>1</td>\n",
       "      <td>27</td>\n",
       "    </tr>\n",
       "    <tr>\n",
       "      <th>247</th>\n",
       "      <td>99</td>\n",
       "      <td>1</td>\n",
       "      <td>27</td>\n",
       "    </tr>\n",
       "    <tr>\n",
       "      <th>248</th>\n",
       "      <td>100</td>\n",
       "      <td>1</td>\n",
       "      <td>27</td>\n",
       "    </tr>\n",
       "    <tr>\n",
       "      <th>249</th>\n",
       "      <td>101</td>\n",
       "      <td>1</td>\n",
       "      <td>27</td>\n",
       "    </tr>\n",
       "  </tbody>\n",
       "</table>\n",
       "<p>250 rows × 3 columns</p>\n",
       "</div>"
      ],
      "text/plain": [
       "           plot_cluster  freq_cluster  plot_cluster_reduced\n",
       "vertex ID                                                  \n",
       "0                     0            29                     0\n",
       "1                     0            29                     0\n",
       "2                     0            29                     0\n",
       "3                     0            29                     0\n",
       "4                     0            29                     0\n",
       "...                 ...           ...                   ...\n",
       "245                  97             1                    27\n",
       "246                  98             1                    27\n",
       "247                  99             1                    27\n",
       "248                 100             1                    27\n",
       "249                 101             1                    27\n",
       "\n",
       "[250 rows x 3 columns]"
      ]
     },
     "execution_count": 131,
     "metadata": {},
     "output_type": "execute_result"
    }
   ],
   "source": [
    "g.get_vertex_dataframe()"
   ]
  },
  {
   "cell_type": "markdown",
   "id": "09687f26",
   "metadata": {},
   "source": [
    "### Node metadata"
   ]
  },
  {
   "cell_type": "code",
   "execution_count": 129,
   "id": "c97a1fe3",
   "metadata": {},
   "outputs": [],
   "source": [
    "# Assigns a cluster value based on connected subgraphs. Useful for spring weight\n",
    "g.vs['plot_cluster'] = g.clusters('strong').membership\n",
    "# Add its frequency\n",
    "cluster_series = g.get_vertex_dataframe().loc[:,'plot_cluster']\n",
    "g.vs['freq_cluster'] = cluster_series.map(cluster_series.value_counts())"
   ]
  },
  {
   "cell_type": "code",
   "execution_count": 130,
   "id": "787da79c",
   "metadata": {},
   "outputs": [],
   "source": [
    "# Create the reduced cluster number, which groups together all disconnected sequences\n",
    "VDF = g.get_vertex_dataframe().sort_values('freq_cluster',ascending=False)\n",
    "repeated_seqs = VDF.loc[VDF['freq_cluster']!=1,'plot_cluster'].factorize()[0]\n",
    "single_seqs = (max(repeated_seqs)+1)*\\\n",
    "                np.ones([len(VDF.loc[VDF['freq_cluster']==1,'plot_cluster'])],dtype=int)\n",
    "VDF['plot_cluster_reduced'] = np.concatenate([repeated_seqs,single_seqs])\n",
    "g.vs['plot_cluster_reduced'] = VDF.loc[:,'plot_cluster_reduced']"
   ]
  },
  {
   "cell_type": "markdown",
   "id": "ee5225d4",
   "metadata": {},
   "source": [
    "### Node color\n",
    "Define the fields `plot_label`, which will be the label in the legend of the plot, and `color` for each node. Depending on the type of label, the colouring and the labels will be different."
   ]
  },
  {
   "cell_type": "code",
   "execution_count": 121,
   "id": "26e949b2",
   "metadata": {},
   "outputs": [],
   "source": [
    "# Assign a feature to color plot\n",
    "color_label = df.loc[:,color_col].values\n",
    "## COLOR PALETTE ##\n",
    "# Define unique group labels\n",
    "_, idx = np.unique(color_label,return_index=True)\n",
    "labs = color_label[np.sort(idx)]\n",
    "n_labs = len(labs)\n",
    "# Create color pallete based on number of groups\n",
    "pal = ig.drawing.colors.ClusterColoringPalette(n_labs)\n",
    "label2RGB = {l:pal.get_many(c)[0] for c,l in enumerate(labs)} # Numbering each label\n",
    "g.vs['color'] = [label2RGB[l] for l in color_label]"
   ]
  },
  {
   "cell_type": "markdown",
   "id": "c971432d",
   "metadata": {},
   "source": [
    "### Node shape"
   ]
  },
  {
   "cell_type": "code",
   "execution_count": 122,
   "id": "5758f0a0",
   "metadata": {},
   "outputs": [],
   "source": [
    "shapes = ['circle','rectangle','triangle-up','triangle-down','diamond']"
   ]
  },
  {
   "cell_type": "code",
   "execution_count": 123,
   "id": "3b7d8792",
   "metadata": {},
   "outputs": [],
   "source": [
    "shape_labels = df[shape_col].unique()\n",
    "n_shapes = len(shape_labels)\n",
    "if n_shapes > 5:\n",
    "    raise ValueError('There can not be more than 5 shapes.')\n",
    "else:\n",
    "    shapes = shapes[:n_shapes]\n",
    "    shape_dic = {shape_labels[i]:shapes[i] for i in range(n_shapes)}"
   ]
  },
  {
   "cell_type": "code",
   "execution_count": 124,
   "id": "dc0c113a",
   "metadata": {},
   "outputs": [],
   "source": [
    "g.vs['shape'] = df.loc[:,shape_col].replace(shape_dic)"
   ]
  },
  {
   "cell_type": "markdown",
   "id": "6aea372c",
   "metadata": {},
   "source": [
    "### Node size"
   ]
  },
  {
   "cell_type": "code",
   "execution_count": 125,
   "id": "c0fda1ae",
   "metadata": {},
   "outputs": [],
   "source": [
    "if size_col==None:\n",
    "    s = 20\n",
    "else:\n",
    "    s = df[size_col].values\n",
    "    s = (s-np.min(s))/(np.max(s)-np.min(s))*(max_node_size-min_node_size)+min_node_size\n",
    "g.vs['size'] = s"
   ]
  },
  {
   "cell_type": "markdown",
   "id": "68436c2b",
   "metadata": {},
   "source": [
    "### Edge metadata"
   ]
  },
  {
   "cell_type": "code",
   "execution_count": 103,
   "id": "08586cb5",
   "metadata": {},
   "outputs": [
    {
     "data": {
      "text/html": [
       "<div>\n",
       "<style scoped>\n",
       "    .dataframe tbody tr th:only-of-type {\n",
       "        vertical-align: middle;\n",
       "    }\n",
       "\n",
       "    .dataframe tbody tr th {\n",
       "        vertical-align: top;\n",
       "    }\n",
       "\n",
       "    .dataframe thead th {\n",
       "        text-align: right;\n",
       "    }\n",
       "</style>\n",
       "<table border=\"1\" class=\"dataframe\">\n",
       "  <thead>\n",
       "    <tr style=\"text-align: right;\">\n",
       "      <th></th>\n",
       "      <th>source</th>\n",
       "      <th>target</th>\n",
       "      <th>distance</th>\n",
       "    </tr>\n",
       "    <tr>\n",
       "      <th>edge ID</th>\n",
       "      <th></th>\n",
       "      <th></th>\n",
       "      <th></th>\n",
       "    </tr>\n",
       "  </thead>\n",
       "  <tbody>\n",
       "    <tr>\n",
       "      <th>0</th>\n",
       "      <td>0</td>\n",
       "      <td>1</td>\n",
       "      <td>0.1</td>\n",
       "    </tr>\n",
       "    <tr>\n",
       "      <th>1</th>\n",
       "      <td>0</td>\n",
       "      <td>2</td>\n",
       "      <td>0.1</td>\n",
       "    </tr>\n",
       "    <tr>\n",
       "      <th>2</th>\n",
       "      <td>0</td>\n",
       "      <td>3</td>\n",
       "      <td>0.1</td>\n",
       "    </tr>\n",
       "    <tr>\n",
       "      <th>3</th>\n",
       "      <td>0</td>\n",
       "      <td>4</td>\n",
       "      <td>0.1</td>\n",
       "    </tr>\n",
       "    <tr>\n",
       "      <th>4</th>\n",
       "      <td>0</td>\n",
       "      <td>5</td>\n",
       "      <td>0.1</td>\n",
       "    </tr>\n",
       "    <tr>\n",
       "      <th>...</th>\n",
       "      <td>...</td>\n",
       "      <td>...</td>\n",
       "      <td>...</td>\n",
       "    </tr>\n",
       "    <tr>\n",
       "      <th>1080</th>\n",
       "      <td>165</td>\n",
       "      <td>171</td>\n",
       "      <td>0.1</td>\n",
       "    </tr>\n",
       "    <tr>\n",
       "      <th>1081</th>\n",
       "      <td>166</td>\n",
       "      <td>174</td>\n",
       "      <td>0.1</td>\n",
       "    </tr>\n",
       "    <tr>\n",
       "      <th>1082</th>\n",
       "      <td>167</td>\n",
       "      <td>168</td>\n",
       "      <td>0.1</td>\n",
       "    </tr>\n",
       "    <tr>\n",
       "      <th>1083</th>\n",
       "      <td>169</td>\n",
       "      <td>170</td>\n",
       "      <td>0.1</td>\n",
       "    </tr>\n",
       "    <tr>\n",
       "      <th>1084</th>\n",
       "      <td>172</td>\n",
       "      <td>173</td>\n",
       "      <td>0.1</td>\n",
       "    </tr>\n",
       "  </tbody>\n",
       "</table>\n",
       "<p>1085 rows × 3 columns</p>\n",
       "</div>"
      ],
      "text/plain": [
       "         source  target  distance\n",
       "edge ID                          \n",
       "0             0       1       0.1\n",
       "1             0       2       0.1\n",
       "2             0       3       0.1\n",
       "3             0       4       0.1\n",
       "4             0       5       0.1\n",
       "...         ...     ...       ...\n",
       "1080        165     171       0.1\n",
       "1081        166     174       0.1\n",
       "1082        167     168       0.1\n",
       "1083        169     170       0.1\n",
       "1084        172     173       0.1\n",
       "\n",
       "[1085 rows x 3 columns]"
      ]
     },
     "execution_count": 103,
     "metadata": {},
     "output_type": "execute_result"
    }
   ],
   "source": [
    "g.get_edge_dataframe()"
   ]
  },
  {
   "cell_type": "code",
   "execution_count": 104,
   "id": "ff43fce0",
   "metadata": {},
   "outputs": [
    {
     "data": {
      "text/plain": [
       "array([0.1])"
      ]
     },
     "execution_count": 104,
     "metadata": {},
     "output_type": "execute_result"
    }
   ],
   "source": [
    "g.get_edge_dataframe().loc[:,'distance'].unique()"
   ]
  },
  {
   "cell_type": "code",
   "execution_count": 100,
   "id": "e97769e8",
   "metadata": {},
   "outputs": [],
   "source": [
    "edges_array = np.array(g.get_edgelist()) # list of edges (node,node)\n",
    "# Distance of every edge according to the distance matrix\n",
    "edge_dist = np.array([dist[tuple(i)] for i in edges_array])\n",
    "# Edge atributes\n",
    "g.es['distance'] = edge_dist\n",
    "g.es['width'] = [edge_width if (edge['distance']==0 ) else edge_width/2 for edge in g.es]\n",
    "g.es['color'] = [\"black\" if (edge['distance']>0 ) else \"red\" for edge in g.es]"
   ]
  },
  {
   "cell_type": "markdown",
   "id": "b72d57f8",
   "metadata": {},
   "source": [
    "### Graph layout\n",
    "Creates a layout with the algorithm given by the keyword `layout_name` "
   ]
  },
  {
   "cell_type": "code",
   "execution_count": 105,
   "id": "ab09edbc",
   "metadata": {},
   "outputs": [],
   "source": [
    "# Initialize layout with a seed (reproducibility)\n",
    "random.seed(42)\n",
    "np.random.seed(42)\n",
    "layout_seed = np.random.random([len(g.vs),2])"
   ]
  },
  {
   "cell_type": "markdown",
   "id": "2b26b2ba",
   "metadata": {},
   "source": [
    "# ToDo: Implement MDS and LgL"
   ]
  },
  {
   "cell_type": "code",
   "execution_count": 106,
   "id": "061ec42f",
   "metadata": {},
   "outputs": [
    {
     "ename": "KeyError",
     "evalue": "'plot_cluster_reduced'",
     "output_type": "error",
     "traceback": [
      "\u001b[0;31m---------------------------------------------------------------------------\u001b[0m",
      "\u001b[0;31mKeyError\u001b[0m                                  Traceback (most recent call last)",
      "\u001b[0;32m~/miniconda3/envs/network_ravi/lib/python3.8/site-packages/pandas/core/indexes/base.py\u001b[0m in \u001b[0;36mget_loc\u001b[0;34m(self, key, method, tolerance)\u001b[0m\n\u001b[1;32m   3360\u001b[0m             \u001b[0;32mtry\u001b[0m\u001b[0;34m:\u001b[0m\u001b[0;34m\u001b[0m\u001b[0;34m\u001b[0m\u001b[0m\n\u001b[0;32m-> 3361\u001b[0;31m                 \u001b[0;32mreturn\u001b[0m \u001b[0mself\u001b[0m\u001b[0;34m.\u001b[0m\u001b[0m_engine\u001b[0m\u001b[0;34m.\u001b[0m\u001b[0mget_loc\u001b[0m\u001b[0;34m(\u001b[0m\u001b[0mcasted_key\u001b[0m\u001b[0;34m)\u001b[0m\u001b[0;34m\u001b[0m\u001b[0;34m\u001b[0m\u001b[0m\n\u001b[0m\u001b[1;32m   3362\u001b[0m             \u001b[0;32mexcept\u001b[0m \u001b[0mKeyError\u001b[0m \u001b[0;32mas\u001b[0m \u001b[0merr\u001b[0m\u001b[0;34m:\u001b[0m\u001b[0;34m\u001b[0m\u001b[0;34m\u001b[0m\u001b[0m\n",
      "\u001b[0;32m~/miniconda3/envs/network_ravi/lib/python3.8/site-packages/pandas/_libs/index.pyx\u001b[0m in \u001b[0;36mpandas._libs.index.IndexEngine.get_loc\u001b[0;34m()\u001b[0m\n",
      "\u001b[0;32m~/miniconda3/envs/network_ravi/lib/python3.8/site-packages/pandas/_libs/index.pyx\u001b[0m in \u001b[0;36mpandas._libs.index.IndexEngine.get_loc\u001b[0;34m()\u001b[0m\n",
      "\u001b[0;32mpandas/_libs/hashtable_class_helper.pxi\u001b[0m in \u001b[0;36mpandas._libs.hashtable.PyObjectHashTable.get_item\u001b[0;34m()\u001b[0m\n",
      "\u001b[0;32mpandas/_libs/hashtable_class_helper.pxi\u001b[0m in \u001b[0;36mpandas._libs.hashtable.PyObjectHashTable.get_item\u001b[0;34m()\u001b[0m\n",
      "\u001b[0;31mKeyError\u001b[0m: 'plot_cluster_reduced'",
      "\nThe above exception was the direct cause of the following exception:\n",
      "\u001b[0;31mKeyError\u001b[0m                                  Traceback (most recent call last)",
      "\u001b[0;32m/tmp/ipykernel_25537/708657594.py\u001b[0m in \u001b[0;36m<module>\u001b[0;34m\u001b[0m\n\u001b[1;32m      2\u001b[0m \u001b[0;32mif\u001b[0m \u001b[0mlayout_name\u001b[0m \u001b[0;34m==\u001b[0m \u001b[0;34m'FR'\u001b[0m\u001b[0;34m:\u001b[0m\u001b[0;34m\u001b[0m\u001b[0;34m\u001b[0m\u001b[0m\n\u001b[1;32m      3\u001b[0m     \u001b[0mniter\u001b[0m \u001b[0;34m=\u001b[0m \u001b[0;36m5000\u001b[0m\u001b[0;34m\u001b[0m\u001b[0;34m\u001b[0m\u001b[0m\n\u001b[0;32m----> 4\u001b[0;31m     \u001b[0mweights\u001b[0m \u001b[0;34m=\u001b[0m \u001b[0mkxs\u001b[0m\u001b[0;34m.\u001b[0m\u001b[0mprop_log_weights\u001b[0m\u001b[0;34m(\u001b[0m\u001b[0mg\u001b[0m\u001b[0;34m)\u001b[0m\u001b[0;34m\u001b[0m\u001b[0;34m\u001b[0m\u001b[0m\n\u001b[0m\u001b[1;32m      5\u001b[0m     \u001b[0mg\u001b[0m\u001b[0;34m.\u001b[0m\u001b[0mes\u001b[0m\u001b[0;34m[\u001b[0m\u001b[0;34m'weights'\u001b[0m\u001b[0;34m]\u001b[0m \u001b[0;34m=\u001b[0m \u001b[0mweights\u001b[0m\u001b[0;34m\u001b[0m\u001b[0;34m\u001b[0m\u001b[0m\n\u001b[1;32m      6\u001b[0m     l = g.layout_fruchterman_reingold(weights=weights,\\\n",
      "\u001b[0;32m~/Documents/VISUALIZATION/NETWORK/bin/spring_functions.py\u001b[0m in \u001b[0;36mprop_log_weights\u001b[0;34m(g)\u001b[0m\n\u001b[1;32m    120\u001b[0m     \u001b[0;31m# Turn to df to take advantage the ordering of pd.unique instead of np.unique\u001b[0m\u001b[0;34m\u001b[0m\u001b[0;34m\u001b[0m\u001b[0;34m\u001b[0m\u001b[0m\n\u001b[1;32m    121\u001b[0m     \u001b[0mdf\u001b[0m \u001b[0;34m=\u001b[0m \u001b[0mg\u001b[0m\u001b[0;34m.\u001b[0m\u001b[0mget_vertex_dataframe\u001b[0m\u001b[0;34m(\u001b[0m\u001b[0;34m)\u001b[0m\u001b[0;34m\u001b[0m\u001b[0;34m\u001b[0m\u001b[0m\n\u001b[0;32m--> 122\u001b[0;31m     \u001b[0mclusters\u001b[0m \u001b[0;34m=\u001b[0m \u001b[0mdf\u001b[0m\u001b[0;34m.\u001b[0m\u001b[0mloc\u001b[0m\u001b[0;34m[\u001b[0m\u001b[0;34m:\u001b[0m\u001b[0;34m,\u001b[0m\u001b[0;34m'plot_cluster_reduced'\u001b[0m\u001b[0;34m]\u001b[0m\u001b[0;34m.\u001b[0m\u001b[0munique\u001b[0m\u001b[0;34m(\u001b[0m\u001b[0;34m)\u001b[0m \u001b[0;31m# Cluster numbers 1..len(clusters)-1\u001b[0m\u001b[0;34m\u001b[0m\u001b[0;34m\u001b[0m\u001b[0m\n\u001b[0m\u001b[1;32m    123\u001b[0m     \u001b[0mL\u001b[0m \u001b[0;34m=\u001b[0m \u001b[0mlen\u001b[0m\u001b[0;34m(\u001b[0m\u001b[0mclusters\u001b[0m\u001b[0;34m)\u001b[0m\u001b[0;34m\u001b[0m\u001b[0;34m\u001b[0m\u001b[0m\n\u001b[1;32m    124\u001b[0m     \u001b[0mF\u001b[0m \u001b[0;34m=\u001b[0m \u001b[0mnp\u001b[0m\u001b[0;34m.\u001b[0m\u001b[0mzeros\u001b[0m\u001b[0;34m(\u001b[0m\u001b[0;34m[\u001b[0m\u001b[0mL\u001b[0m\u001b[0;34m]\u001b[0m\u001b[0;34m,\u001b[0m\u001b[0mdtype\u001b[0m\u001b[0;34m=\u001b[0m\u001b[0mint\u001b[0m\u001b[0;34m)\u001b[0m\u001b[0;34m\u001b[0m\u001b[0;34m\u001b[0m\u001b[0m\n",
      "\u001b[0;32m~/miniconda3/envs/network_ravi/lib/python3.8/site-packages/pandas/core/indexing.py\u001b[0m in \u001b[0;36m__getitem__\u001b[0;34m(self, key)\u001b[0m\n\u001b[1;32m    923\u001b[0m                 \u001b[0;32mwith\u001b[0m \u001b[0msuppress\u001b[0m\u001b[0;34m(\u001b[0m\u001b[0mKeyError\u001b[0m\u001b[0;34m,\u001b[0m \u001b[0mIndexError\u001b[0m\u001b[0;34m)\u001b[0m\u001b[0;34m:\u001b[0m\u001b[0;34m\u001b[0m\u001b[0;34m\u001b[0m\u001b[0m\n\u001b[1;32m    924\u001b[0m                     \u001b[0;32mreturn\u001b[0m \u001b[0mself\u001b[0m\u001b[0;34m.\u001b[0m\u001b[0mobj\u001b[0m\u001b[0;34m.\u001b[0m\u001b[0m_get_value\u001b[0m\u001b[0;34m(\u001b[0m\u001b[0;34m*\u001b[0m\u001b[0mkey\u001b[0m\u001b[0;34m,\u001b[0m \u001b[0mtakeable\u001b[0m\u001b[0;34m=\u001b[0m\u001b[0mself\u001b[0m\u001b[0;34m.\u001b[0m\u001b[0m_takeable\u001b[0m\u001b[0;34m)\u001b[0m\u001b[0;34m\u001b[0m\u001b[0;34m\u001b[0m\u001b[0m\n\u001b[0;32m--> 925\u001b[0;31m             \u001b[0;32mreturn\u001b[0m \u001b[0mself\u001b[0m\u001b[0;34m.\u001b[0m\u001b[0m_getitem_tuple\u001b[0m\u001b[0;34m(\u001b[0m\u001b[0mkey\u001b[0m\u001b[0;34m)\u001b[0m\u001b[0;34m\u001b[0m\u001b[0;34m\u001b[0m\u001b[0m\n\u001b[0m\u001b[1;32m    926\u001b[0m         \u001b[0;32melse\u001b[0m\u001b[0;34m:\u001b[0m\u001b[0;34m\u001b[0m\u001b[0;34m\u001b[0m\u001b[0m\n\u001b[1;32m    927\u001b[0m             \u001b[0;31m# we by definition only have the 0th axis\u001b[0m\u001b[0;34m\u001b[0m\u001b[0;34m\u001b[0m\u001b[0;34m\u001b[0m\u001b[0m\n",
      "\u001b[0;32m~/miniconda3/envs/network_ravi/lib/python3.8/site-packages/pandas/core/indexing.py\u001b[0m in \u001b[0;36m_getitem_tuple\u001b[0;34m(self, tup)\u001b[0m\n\u001b[1;32m   1098\u001b[0m     \u001b[0;32mdef\u001b[0m \u001b[0m_getitem_tuple\u001b[0m\u001b[0;34m(\u001b[0m\u001b[0mself\u001b[0m\u001b[0;34m,\u001b[0m \u001b[0mtup\u001b[0m\u001b[0;34m:\u001b[0m \u001b[0mtuple\u001b[0m\u001b[0;34m)\u001b[0m\u001b[0;34m:\u001b[0m\u001b[0;34m\u001b[0m\u001b[0;34m\u001b[0m\u001b[0m\n\u001b[1;32m   1099\u001b[0m         \u001b[0;32mwith\u001b[0m \u001b[0msuppress\u001b[0m\u001b[0;34m(\u001b[0m\u001b[0mIndexingError\u001b[0m\u001b[0;34m)\u001b[0m\u001b[0;34m:\u001b[0m\u001b[0;34m\u001b[0m\u001b[0;34m\u001b[0m\u001b[0m\n\u001b[0;32m-> 1100\u001b[0;31m             \u001b[0;32mreturn\u001b[0m \u001b[0mself\u001b[0m\u001b[0;34m.\u001b[0m\u001b[0m_getitem_lowerdim\u001b[0m\u001b[0;34m(\u001b[0m\u001b[0mtup\u001b[0m\u001b[0;34m)\u001b[0m\u001b[0;34m\u001b[0m\u001b[0;34m\u001b[0m\u001b[0m\n\u001b[0m\u001b[1;32m   1101\u001b[0m \u001b[0;34m\u001b[0m\u001b[0m\n\u001b[1;32m   1102\u001b[0m         \u001b[0;31m# no multi-index, so validate all of the indexers\u001b[0m\u001b[0;34m\u001b[0m\u001b[0;34m\u001b[0m\u001b[0;34m\u001b[0m\u001b[0m\n",
      "\u001b[0;32m~/miniconda3/envs/network_ravi/lib/python3.8/site-packages/pandas/core/indexing.py\u001b[0m in \u001b[0;36m_getitem_lowerdim\u001b[0;34m(self, tup)\u001b[0m\n\u001b[1;32m    836\u001b[0m                 \u001b[0;31m# We don't need to check for tuples here because those are\u001b[0m\u001b[0;34m\u001b[0m\u001b[0;34m\u001b[0m\u001b[0;34m\u001b[0m\u001b[0m\n\u001b[1;32m    837\u001b[0m                 \u001b[0;31m#  caught by the _is_nested_tuple_indexer check above.\u001b[0m\u001b[0;34m\u001b[0m\u001b[0;34m\u001b[0m\u001b[0;34m\u001b[0m\u001b[0m\n\u001b[0;32m--> 838\u001b[0;31m                 \u001b[0msection\u001b[0m \u001b[0;34m=\u001b[0m \u001b[0mself\u001b[0m\u001b[0;34m.\u001b[0m\u001b[0m_getitem_axis\u001b[0m\u001b[0;34m(\u001b[0m\u001b[0mkey\u001b[0m\u001b[0;34m,\u001b[0m \u001b[0maxis\u001b[0m\u001b[0;34m=\u001b[0m\u001b[0mi\u001b[0m\u001b[0;34m)\u001b[0m\u001b[0;34m\u001b[0m\u001b[0;34m\u001b[0m\u001b[0m\n\u001b[0m\u001b[1;32m    839\u001b[0m \u001b[0;34m\u001b[0m\u001b[0m\n\u001b[1;32m    840\u001b[0m                 \u001b[0;31m# We should never have a scalar section here, because\u001b[0m\u001b[0;34m\u001b[0m\u001b[0;34m\u001b[0m\u001b[0;34m\u001b[0m\u001b[0m\n",
      "\u001b[0;32m~/miniconda3/envs/network_ravi/lib/python3.8/site-packages/pandas/core/indexing.py\u001b[0m in \u001b[0;36m_getitem_axis\u001b[0;34m(self, key, axis)\u001b[0m\n\u001b[1;32m   1162\u001b[0m         \u001b[0;31m# fall thru to straight lookup\u001b[0m\u001b[0;34m\u001b[0m\u001b[0;34m\u001b[0m\u001b[0;34m\u001b[0m\u001b[0m\n\u001b[1;32m   1163\u001b[0m         \u001b[0mself\u001b[0m\u001b[0;34m.\u001b[0m\u001b[0m_validate_key\u001b[0m\u001b[0;34m(\u001b[0m\u001b[0mkey\u001b[0m\u001b[0;34m,\u001b[0m \u001b[0maxis\u001b[0m\u001b[0;34m)\u001b[0m\u001b[0;34m\u001b[0m\u001b[0;34m\u001b[0m\u001b[0m\n\u001b[0;32m-> 1164\u001b[0;31m         \u001b[0;32mreturn\u001b[0m \u001b[0mself\u001b[0m\u001b[0;34m.\u001b[0m\u001b[0m_get_label\u001b[0m\u001b[0;34m(\u001b[0m\u001b[0mkey\u001b[0m\u001b[0;34m,\u001b[0m \u001b[0maxis\u001b[0m\u001b[0;34m=\u001b[0m\u001b[0maxis\u001b[0m\u001b[0;34m)\u001b[0m\u001b[0;34m\u001b[0m\u001b[0;34m\u001b[0m\u001b[0m\n\u001b[0m\u001b[1;32m   1165\u001b[0m \u001b[0;34m\u001b[0m\u001b[0m\n\u001b[1;32m   1166\u001b[0m     \u001b[0;32mdef\u001b[0m \u001b[0m_get_slice_axis\u001b[0m\u001b[0;34m(\u001b[0m\u001b[0mself\u001b[0m\u001b[0;34m,\u001b[0m \u001b[0mslice_obj\u001b[0m\u001b[0;34m:\u001b[0m \u001b[0mslice\u001b[0m\u001b[0;34m,\u001b[0m \u001b[0maxis\u001b[0m\u001b[0;34m:\u001b[0m \u001b[0mint\u001b[0m\u001b[0;34m)\u001b[0m\u001b[0;34m:\u001b[0m\u001b[0;34m\u001b[0m\u001b[0;34m\u001b[0m\u001b[0m\n",
      "\u001b[0;32m~/miniconda3/envs/network_ravi/lib/python3.8/site-packages/pandas/core/indexing.py\u001b[0m in \u001b[0;36m_get_label\u001b[0;34m(self, label, axis)\u001b[0m\n\u001b[1;32m   1111\u001b[0m     \u001b[0;32mdef\u001b[0m \u001b[0m_get_label\u001b[0m\u001b[0;34m(\u001b[0m\u001b[0mself\u001b[0m\u001b[0;34m,\u001b[0m \u001b[0mlabel\u001b[0m\u001b[0;34m,\u001b[0m \u001b[0maxis\u001b[0m\u001b[0;34m:\u001b[0m \u001b[0mint\u001b[0m\u001b[0;34m)\u001b[0m\u001b[0;34m:\u001b[0m\u001b[0;34m\u001b[0m\u001b[0;34m\u001b[0m\u001b[0m\n\u001b[1;32m   1112\u001b[0m         \u001b[0;31m# GH#5667 this will fail if the label is not present in the axis.\u001b[0m\u001b[0;34m\u001b[0m\u001b[0;34m\u001b[0m\u001b[0;34m\u001b[0m\u001b[0m\n\u001b[0;32m-> 1113\u001b[0;31m         \u001b[0;32mreturn\u001b[0m \u001b[0mself\u001b[0m\u001b[0;34m.\u001b[0m\u001b[0mobj\u001b[0m\u001b[0;34m.\u001b[0m\u001b[0mxs\u001b[0m\u001b[0;34m(\u001b[0m\u001b[0mlabel\u001b[0m\u001b[0;34m,\u001b[0m \u001b[0maxis\u001b[0m\u001b[0;34m=\u001b[0m\u001b[0maxis\u001b[0m\u001b[0;34m)\u001b[0m\u001b[0;34m\u001b[0m\u001b[0;34m\u001b[0m\u001b[0m\n\u001b[0m\u001b[1;32m   1114\u001b[0m \u001b[0;34m\u001b[0m\u001b[0m\n\u001b[1;32m   1115\u001b[0m     \u001b[0;32mdef\u001b[0m \u001b[0m_handle_lowerdim_multi_index_axis0\u001b[0m\u001b[0;34m(\u001b[0m\u001b[0mself\u001b[0m\u001b[0;34m,\u001b[0m \u001b[0mtup\u001b[0m\u001b[0;34m:\u001b[0m \u001b[0mtuple\u001b[0m\u001b[0;34m)\u001b[0m\u001b[0;34m:\u001b[0m\u001b[0;34m\u001b[0m\u001b[0;34m\u001b[0m\u001b[0m\n",
      "\u001b[0;32m~/miniconda3/envs/network_ravi/lib/python3.8/site-packages/pandas/core/generic.py\u001b[0m in \u001b[0;36mxs\u001b[0;34m(self, key, axis, level, drop_level)\u001b[0m\n\u001b[1;32m   3759\u001b[0m         \u001b[0;32mif\u001b[0m \u001b[0maxis\u001b[0m \u001b[0;34m==\u001b[0m \u001b[0;36m1\u001b[0m\u001b[0;34m:\u001b[0m\u001b[0;34m\u001b[0m\u001b[0;34m\u001b[0m\u001b[0m\n\u001b[1;32m   3760\u001b[0m             \u001b[0;32mif\u001b[0m \u001b[0mdrop_level\u001b[0m\u001b[0;34m:\u001b[0m\u001b[0;34m\u001b[0m\u001b[0;34m\u001b[0m\u001b[0m\n\u001b[0;32m-> 3761\u001b[0;31m                 \u001b[0;32mreturn\u001b[0m \u001b[0mself\u001b[0m\u001b[0;34m[\u001b[0m\u001b[0mkey\u001b[0m\u001b[0;34m]\u001b[0m\u001b[0;34m\u001b[0m\u001b[0;34m\u001b[0m\u001b[0m\n\u001b[0m\u001b[1;32m   3762\u001b[0m             \u001b[0mindex\u001b[0m \u001b[0;34m=\u001b[0m \u001b[0mself\u001b[0m\u001b[0;34m.\u001b[0m\u001b[0mcolumns\u001b[0m\u001b[0;34m\u001b[0m\u001b[0;34m\u001b[0m\u001b[0m\n\u001b[1;32m   3763\u001b[0m         \u001b[0;32melse\u001b[0m\u001b[0;34m:\u001b[0m\u001b[0;34m\u001b[0m\u001b[0;34m\u001b[0m\u001b[0m\n",
      "\u001b[0;32m~/miniconda3/envs/network_ravi/lib/python3.8/site-packages/pandas/core/frame.py\u001b[0m in \u001b[0;36m__getitem__\u001b[0;34m(self, key)\u001b[0m\n\u001b[1;32m   3456\u001b[0m             \u001b[0;32mif\u001b[0m \u001b[0mself\u001b[0m\u001b[0;34m.\u001b[0m\u001b[0mcolumns\u001b[0m\u001b[0;34m.\u001b[0m\u001b[0mnlevels\u001b[0m \u001b[0;34m>\u001b[0m \u001b[0;36m1\u001b[0m\u001b[0;34m:\u001b[0m\u001b[0;34m\u001b[0m\u001b[0;34m\u001b[0m\u001b[0m\n\u001b[1;32m   3457\u001b[0m                 \u001b[0;32mreturn\u001b[0m \u001b[0mself\u001b[0m\u001b[0;34m.\u001b[0m\u001b[0m_getitem_multilevel\u001b[0m\u001b[0;34m(\u001b[0m\u001b[0mkey\u001b[0m\u001b[0;34m)\u001b[0m\u001b[0;34m\u001b[0m\u001b[0;34m\u001b[0m\u001b[0m\n\u001b[0;32m-> 3458\u001b[0;31m             \u001b[0mindexer\u001b[0m \u001b[0;34m=\u001b[0m \u001b[0mself\u001b[0m\u001b[0;34m.\u001b[0m\u001b[0mcolumns\u001b[0m\u001b[0;34m.\u001b[0m\u001b[0mget_loc\u001b[0m\u001b[0;34m(\u001b[0m\u001b[0mkey\u001b[0m\u001b[0;34m)\u001b[0m\u001b[0;34m\u001b[0m\u001b[0;34m\u001b[0m\u001b[0m\n\u001b[0m\u001b[1;32m   3459\u001b[0m             \u001b[0;32mif\u001b[0m \u001b[0mis_integer\u001b[0m\u001b[0;34m(\u001b[0m\u001b[0mindexer\u001b[0m\u001b[0;34m)\u001b[0m\u001b[0;34m:\u001b[0m\u001b[0;34m\u001b[0m\u001b[0;34m\u001b[0m\u001b[0m\n\u001b[1;32m   3460\u001b[0m                 \u001b[0mindexer\u001b[0m \u001b[0;34m=\u001b[0m \u001b[0;34m[\u001b[0m\u001b[0mindexer\u001b[0m\u001b[0;34m]\u001b[0m\u001b[0;34m\u001b[0m\u001b[0;34m\u001b[0m\u001b[0m\n",
      "\u001b[0;32m~/miniconda3/envs/network_ravi/lib/python3.8/site-packages/pandas/core/indexes/base.py\u001b[0m in \u001b[0;36mget_loc\u001b[0;34m(self, key, method, tolerance)\u001b[0m\n\u001b[1;32m   3361\u001b[0m                 \u001b[0;32mreturn\u001b[0m \u001b[0mself\u001b[0m\u001b[0;34m.\u001b[0m\u001b[0m_engine\u001b[0m\u001b[0;34m.\u001b[0m\u001b[0mget_loc\u001b[0m\u001b[0;34m(\u001b[0m\u001b[0mcasted_key\u001b[0m\u001b[0;34m)\u001b[0m\u001b[0;34m\u001b[0m\u001b[0;34m\u001b[0m\u001b[0m\n\u001b[1;32m   3362\u001b[0m             \u001b[0;32mexcept\u001b[0m \u001b[0mKeyError\u001b[0m \u001b[0;32mas\u001b[0m \u001b[0merr\u001b[0m\u001b[0;34m:\u001b[0m\u001b[0;34m\u001b[0m\u001b[0;34m\u001b[0m\u001b[0m\n\u001b[0;32m-> 3363\u001b[0;31m                 \u001b[0;32mraise\u001b[0m \u001b[0mKeyError\u001b[0m\u001b[0;34m(\u001b[0m\u001b[0mkey\u001b[0m\u001b[0;34m)\u001b[0m \u001b[0;32mfrom\u001b[0m \u001b[0merr\u001b[0m\u001b[0;34m\u001b[0m\u001b[0;34m\u001b[0m\u001b[0m\n\u001b[0m\u001b[1;32m   3364\u001b[0m \u001b[0;34m\u001b[0m\u001b[0m\n\u001b[1;32m   3365\u001b[0m         \u001b[0;32mif\u001b[0m \u001b[0mis_scalar\u001b[0m\u001b[0;34m(\u001b[0m\u001b[0mkey\u001b[0m\u001b[0;34m)\u001b[0m \u001b[0;32mand\u001b[0m \u001b[0misna\u001b[0m\u001b[0;34m(\u001b[0m\u001b[0mkey\u001b[0m\u001b[0;34m)\u001b[0m \u001b[0;32mand\u001b[0m \u001b[0;32mnot\u001b[0m \u001b[0mself\u001b[0m\u001b[0;34m.\u001b[0m\u001b[0mhasnans\u001b[0m\u001b[0;34m:\u001b[0m\u001b[0;34m\u001b[0m\u001b[0;34m\u001b[0m\u001b[0m\n",
      "\u001b[0;31mKeyError\u001b[0m: 'plot_cluster_reduced'"
     ]
    }
   ],
   "source": [
    "# Reingold-Fruchterman\n",
    "if layout_name == 'FR':\n",
    "    niter = 5000\n",
    "    weights = kxs.prop_log_weights(g)\n",
    "    g.es['weights'] = weights\n",
    "    l = g.layout_fruchterman_reingold(weights=weights,\\\n",
    "                                      seed=layout_seed,niter=niter)\n",
    "# Davidson-Harel\n",
    "elif layout_name == 'DH':\n",
    "    maxiter = 80\n",
    "    fineiter = 15\n",
    "    cool_fact = 0.95\n",
    "    weight_node_dist = 1000\n",
    "    weight_border = 20000000\n",
    "    weight_edge_lengths = 0.1\n",
    "    weight_edge_crossings = 1000\n",
    "    weight_node_edge_dist = 10000\n",
    "    l = g.layout_davidson_harel(seed=layout_seed, maxiter=maxiter, fineiter=fineiter,\\\n",
    "                                       cool_fact=cool_fact, weight_node_dist=weight_node_dist,\\\n",
    "                                       weight_border=weight_border,\\\n",
    "                                       weight_edge_lengths=weight_edge_lengths,\\\n",
    "                                       weight_edge_crossings=weight_edge_crossings,\\\n",
    "                                       weight_node_edge_dist=weight_node_edge_dist)\n",
    "# Graphopt\n",
    "elif layout_name == 'GO':\n",
    "    niter = 500\n",
    "    node_charge = 0.03\n",
    "    node_mass = 5\n",
    "    spring_length = 5\n",
    "    spring_constant = 0.5\n",
    "    max_sa_movement = 12\n",
    "    l = g.layout_graphopt(niter=niter, node_charge=node_charge, node_mass=node_mass,\\\n",
    "                          spring_length=spring_length, spring_constant=spring_constant,\\\n",
    "                          max_sa_movement=max_sa_movement, seed=layout_seed)"
   ]
  },
  {
   "cell_type": "markdown",
   "id": "0e2c403d",
   "metadata": {},
   "source": [
    "#### Plot generation"
   ]
  },
  {
   "cell_type": "code",
   "execution_count": null,
   "id": "3d94a2fd",
   "metadata": {},
   "outputs": [],
   "source": [
    "visual_style = {\n",
    "    'bbox' : (0, 0, 600, 600),\n",
    "    'layout' : l,\n",
    "    \"margin\": 20,\n",
    "    \"autocurve\" : False,\n",
    "    'edge_width' : g.es['width'],\n",
    "    'vertex_size' : g.vs['size']\n",
    "}\n",
    "ig.plot(g,target=fig_name,**visual_style)"
   ]
  },
  {
   "cell_type": "markdown",
   "id": "6c381c88",
   "metadata": {},
   "source": [
    "### Plotting with legend"
   ]
  },
  {
   "cell_type": "code",
   "execution_count": null,
   "id": "b67ac5c0",
   "metadata": {},
   "outputs": [],
   "source": [
    "label_h = 0.4*unit\n",
    "width,height = (24*unit,18*unit)"
   ]
  },
  {
   "cell_type": "code",
   "execution_count": null,
   "id": "86ef2a5d",
   "metadata": {},
   "outputs": [],
   "source": [
    "# Construct the plot\n",
    "plot = ig.Plot(fig_name, bbox=(width,height), background=\"white\")\n",
    "plot.add(g, bbox=(1*unit, 1*unit, width-7*unit, height-1*unit),\\\n",
    "         vertex_size=g.vs['size'],layout=l)\n",
    "# Make the plot draw itself on the Cairo surface\n",
    "plot.redraw()\n",
    "# Grab the surface, construct a drawing context\n",
    "ctx = cr.Context(plot.surface)\n",
    "# Legend rectangle\n",
    "rect_height = label_h*len(label2RGB) + label_h\n",
    "rect_width = 3*unit # Change if the label is too long/short\n",
    "coord = [19*unit,9*unit-rect_height/2] # standing coordinates x,y\n",
    "\n",
    "ctx.rectangle(coord[0],coord[1], rect_width, rect_height)\n",
    "ctx.set_source_rgb(1, 1, 1)\n",
    "ctx.fill_preserve()\n",
    "ctx.set_source_rgb(0, 0, 0)\n",
    "ctx.set_line_width(2)\n",
    "ctx.stroke()\n",
    "\n",
    "# Legend items\n",
    "coord[0]=coord[0]+label_h\n",
    "for l in label2RGB.keys():\n",
    "    # Circle\n",
    "    coord[1] = coord[1] + label_h\n",
    "    ctx.move_to(coord[0],coord[1])\n",
    "    ctx.arc(coord[0],coord[1], 0.1*unit, 0, 2*pi)\n",
    "    ctx.close_path()\n",
    "    ctx.set_source_rgb(label2RGB[l][0],label2RGB[l][1],label2RGB[l][2]) #R,G,B\n",
    "    ctx.fill()\n",
    "    # Text\n",
    "    ctx.set_source_rgb(0, 0, 0)\n",
    "    ctx.set_font_size(0.3*unit)\n",
    "    ctx.select_font_face(\"Arial\",\n",
    "                         cr.FONT_SLANT_NORMAL,\n",
    "                         cr.FONT_WEIGHT_NORMAL)\n",
    "    ctx.move_to(coord[0]+0.3*unit,coord[1]+0.1*unit)\n",
    "    ctx.show_text(l)\n",
    "\n",
    "# Save the plot\n",
    "plot.save(fig_name)"
   ]
  },
  {
   "cell_type": "code",
   "execution_count": null,
   "id": "5e70d4ff",
   "metadata": {},
   "outputs": [],
   "source": []
  }
 ],
 "metadata": {
  "kernelspec": {
   "display_name": "network_ravi",
   "language": "python",
   "name": "network_ravi"
  },
  "language_info": {
   "codemirror_mode": {
    "name": "ipython",
    "version": 3
   },
   "file_extension": ".py",
   "mimetype": "text/x-python",
   "name": "python",
   "nbconvert_exporter": "python",
   "pygments_lexer": "ipython3",
   "version": "3.8.12"
  }
 },
 "nbformat": 4,
 "nbformat_minor": 5
}
