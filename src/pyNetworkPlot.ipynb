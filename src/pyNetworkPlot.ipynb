{
 "cells": [
  {
   "cell_type": "markdown",
   "id": "2cb07892",
   "metadata": {},
   "source": [
    "# pyNetworkPlot"
   ]
  },
  {
   "cell_type": "code",
   "execution_count": null,
   "id": "82aa4008",
   "metadata": {},
   "outputs": [],
   "source": [
    "import sys, os\n",
    "import numpy as np\n",
    "import pandas as pd\n",
    "from matplotlib import pyplot as plt\n",
    "from polyleven import levenshtein as poly_lev\n",
    "#from collections import defaultdict\n",
    "import igraph as ig\n",
    "import random # layout seed\n",
    "import cairo as cr\n",
    "from igraph.drawing.text import TextDrawer\n",
    "from math import pi # Legend circles\n",
    "from PIL.ImageColor import getcolor"
   ]
  },
  {
   "cell_type": "code",
   "execution_count": null,
   "id": "4fcd0071",
   "metadata": {},
   "outputs": [],
   "source": [
    "module_path = os.path.abspath(os.path.join('..', 'bin'))\n",
    "if module_path not in sys.path:\n",
    "    sys.path.append(module_path)"
   ]
  },
  {
   "cell_type": "code",
   "execution_count": null,
   "id": "cb6b9217",
   "metadata": {},
   "outputs": [],
   "source": [
    "# from ../bin\n",
    "import spring_functions as kxs\n",
    "from data_functions import group_with_freq\n",
    "from drawing import *"
   ]
  },
  {
   "cell_type": "markdown",
   "id": "830db574",
   "metadata": {},
   "source": [
    "## Parameters"
   ]
  },
  {
   "cell_type": "code",
   "execution_count": null,
   "id": "4d5a37f3",
   "metadata": {},
   "outputs": [],
   "source": [
    "pd.set_option('display.max_columns',None)"
   ]
  },
  {
   "cell_type": "markdown",
   "id": "638c7414",
   "metadata": {},
   "source": [
    "#### Data parameters"
   ]
  },
  {
   "cell_type": "code",
   "execution_count": null,
   "id": "fd1ccdab",
   "metadata": {},
   "outputs": [],
   "source": [
    "out_file = '../results/FlowerP1.pdf'\n",
    "seq_col = 'Sequence'#Full_VH_VL or VDJ_REGION_AA_sequence_of_H\n",
    "color_col = 'seurat_clusters'\n",
    "custom_color = '../data/custom_colors.txt'\n",
    "shape_col = 'tissue'#'receptor_revision'\n",
    "size_col = None\n",
    "#min_seq2show = 0 # integer\n",
    "group_unique = True # Boolean\n",
    "remove_unique = True # Boolean"
   ]
  },
  {
   "cell_type": "markdown",
   "id": "462d718f",
   "metadata": {},
   "source": [
    "#### Figure parameters"
   ]
  },
  {
   "cell_type": "code",
   "execution_count": null,
   "id": "f2c20a90",
   "metadata": {},
   "outputs": [],
   "source": [
    "# Similarity threshold\n",
    "similarity = 0 # non-negative integer\n",
    "max_node_size=50\n",
    "min_node_size=5\n",
    "layout_name = 'FR' # Can be FR, DH, DrL, GO, LgL, MDS\n",
    "legend = True\n",
    "unit=100\n",
    "edge_width = 1.5\n",
    "edge_color = 'black'"
   ]
  },
  {
   "cell_type": "code",
   "execution_count": null,
   "id": "581735a6",
   "metadata": {},
   "outputs": [],
   "source": [
    "in_file = 'input.csv'\n",
    "#in_file = '../data/P268.xlsx'\n",
    "file_type = in_file.split('.')[-1]\n",
    "if file_type == 'tsv':\n",
    "    DF = pd.read_csv(in_file,sep='\\t',index_col=0).reset_index(drop=True)\n",
    "elif file_type == 'xlsx':\n",
    "    DF = pd.read_excel(in_file,index_col=0)\n",
    "elif file_type == 'csv':\n",
    "    DF = pd.read_csv(in_file,sep=',',index_col=0).reset_index(drop=True)\n",
    "else:\n",
    "    raise NameError(\"Invalid input format. Has to be either .tsv, .csv or .xlsx.\")"
   ]
  },
  {
   "cell_type": "code",
   "execution_count": null,
   "id": "5f2a7a84",
   "metadata": {},
   "outputs": [],
   "source": [
    "DF"
   ]
  },
  {
   "cell_type": "code",
   "execution_count": null,
   "id": "d6ef6c56",
   "metadata": {},
   "outputs": [],
   "source": [
    "# Just for visualization of datasets, not include in the script\n",
    "new_columns = bool(seq_col)*[seq_col]+bool(color_col)*[color_col]+bool(shape_col)*[shape_col]+\\\n",
    "bool(size_col)*[size_col]\n",
    "new_columns\n",
    "DF = DF.loc[:,new_columns]\n",
    "DF"
   ]
  },
  {
   "cell_type": "code",
   "execution_count": null,
   "id": "23a5f3bd",
   "metadata": {},
   "outputs": [],
   "source": [
    "nan_cols = []\n",
    "for c in DF.columns:\n",
    "    if np.any(DF.loc[:,c].isna()):\n",
    "        nan_cols.append(c)\n",
    "if len(nan_cols)>0:\n",
    "    raise ValueError('The columns ', nan_cols, ' have NaN values.')"
   ]
  },
  {
   "cell_type": "code",
   "execution_count": null,
   "id": "faaa8b34",
   "metadata": {},
   "outputs": [],
   "source": [
    "# Frequency grouping\n",
    "DF = group_with_freq(DF,seq_col,group_unique).sort_values(['freq_'+seq_col,seq_col],ascending=False).reset_index(drop=True)\n",
    "if remove_unique:\n",
    "    DF = DF.loc[DF['group_'+seq_col]!=-1]\n",
    "else:\n",
    "    DF.loc[DF['group_'+seq_col]==-1,'group_'+seq_col]=DF['group_'+seq_col].max()+1\n",
    "DF"
   ]
  },
  {
   "cell_type": "markdown",
   "id": "074e7957",
   "metadata": {},
   "source": [
    "# II. Distance matrix calculation"
   ]
  },
  {
   "cell_type": "code",
   "execution_count": null,
   "id": "c914e0de",
   "metadata": {
    "scrolled": true
   },
   "outputs": [],
   "source": [
    "seqs = DF.loc[:,seq_col].values\n",
    "#idx2seq = {i:seq for i,seq in enumerate(seqs)}\n",
    "L = len(seqs)\n",
    "dist = np.zeros([L,L])\n",
    "t = np.ceil(L/100)\n",
    "for i in range(L):\n",
    "    for j in range(L):\n",
    "        dist[i,j]=poly_lev(seqs[i],seqs[j])\n",
    "    if i%t==0:\n",
    "        print(\"%.2f %% completed\"%(i*100/L))"
   ]
  },
  {
   "cell_type": "code",
   "execution_count": null,
   "id": "5e5d1742",
   "metadata": {},
   "outputs": [],
   "source": [
    "# Definite adjacency and weight matrices\n",
    "eps = 0.1 # Distance delta\n",
    "adj = dist.copy()\n",
    "adj[adj<=similarity]=-1\n",
    "adj[adj>similarity]=0\n",
    "adj[adj==-1]=1\n",
    "W = np.multiply(adj,dist+eps)"
   ]
  },
  {
   "cell_type": "code",
   "execution_count": null,
   "id": "43cd7d23",
   "metadata": {},
   "outputs": [],
   "source": [
    "plt.imshow(dist)\n",
    "plt.colorbar()"
   ]
  },
  {
   "cell_type": "markdown",
   "id": "ac87dce6",
   "metadata": {},
   "source": [
    "# III. Graph generation and plotting"
   ]
  },
  {
   "cell_type": "code",
   "execution_count": null,
   "id": "c0126eec",
   "metadata": {},
   "outputs": [],
   "source": [
    "# Create graph object\n",
    "g = ig.Graph.Weighted_Adjacency(W,mode='undirected',attr='distance',loops=False)"
   ]
  },
  {
   "cell_type": "markdown",
   "id": "09687f26",
   "metadata": {},
   "source": [
    "## III.1 Node metadata"
   ]
  },
  {
   "cell_type": "code",
   "execution_count": null,
   "id": "c97a1fe3",
   "metadata": {},
   "outputs": [],
   "source": [
    "# Assigns a cluster value based on connected subgraphs. Useful for spring weight\n",
    "g.vs['cluster'] = DF.loc[:,'group_'+seq_col]\n",
    "g.vs['freq'] = DF.loc[:,'freq_'+seq_col]"
   ]
  },
  {
   "cell_type": "markdown",
   "id": "ee5225d4",
   "metadata": {},
   "source": [
    "### III.1.1 Node color\n",
    "Define the fields `plot_label`, which will be the label in the legend of the plot, and `color` for each node. Depending on the type of label, the colouring and the labels will be different."
   ]
  },
  {
   "cell_type": "code",
   "execution_count": null,
   "id": "26e949b2",
   "metadata": {},
   "outputs": [],
   "source": [
    "if custom_color:\n",
    "    label2RGB = {}\n",
    "    with open(custom_color) as file:\n",
    "        for line in file:\n",
    "            (key, value) = line.strip().split(',')\n",
    "            if key in DF.loc[:,color_col].astype(str).values:\n",
    "                label2RGB[int(key)] = tuple(v/255 for v in getcolor(value,'RGB'))\n",
    "    n_colors = len(label2RGB)\n",
    "    g.vs['color'] = DF.loc[:,color_col].map(label2RGB.get).values\n",
    "elif color_col:\n",
    "    color_label = DF.loc[:,color_col].values\n",
    "    ## COLOR PALETTE ##\n",
    "    # Define unique group labels\n",
    "    _, idx = np.unique(color_label,return_index=True)\n",
    "    labs = color_label[np.sort(idx)]\n",
    "    n_colors = len(labs)\n",
    "    # Create color pallete based on number of groups\n",
    "    pal = ig.drawing.colors.ClusterColoringPalette(n_colors)\n",
    "    label2RGB = {l:pal.get_many(c)[0] for c,l in enumerate(np.sort(labs))} # Numbering each label\n",
    "    g.vs['color'] = [label2RGB[l] for l in color_label]\n",
    "else:\n",
    "    n_colors = 0"
   ]
  },
  {
   "cell_type": "code",
   "execution_count": null,
   "id": "42acc3fe",
   "metadata": {},
   "outputs": [],
   "source": [
    "g.get_vertex_dataframe()"
   ]
  },
  {
   "cell_type": "markdown",
   "id": "c971432d",
   "metadata": {},
   "source": [
    "### III.1.2 Node shape"
   ]
  },
  {
   "cell_type": "code",
   "execution_count": null,
   "id": "29022609",
   "metadata": {},
   "outputs": [],
   "source": [
    "if shape_col == None:\n",
    "    g.vs['shape'] = 'circle'\n",
    "    n_shapes = 0\n",
    "else:\n",
    "    shapes = ['circle','rectangle','triangle-up','triangle-down','diamond']\n",
    "    funcs = [draw_circle,draw_square,draw_triangle_up,draw_triangle_down,draw_diamond]\n",
    "    shape_labels = DF[shape_col].unique()\n",
    "    n_shapes = len(shape_labels)\n",
    "    if n_shapes > 5:\n",
    "        raise ValueError('There can not be more than 5 shapes.')\n",
    "    else:\n",
    "        shapes = shapes[:n_shapes]\n",
    "        shape_dic = {shape_labels[i]:shapes[i] for i in range(n_shapes)}\n",
    "    g.vs['shape'] = DF.loc[:,shape_col].replace(shape_dic)"
   ]
  },
  {
   "cell_type": "markdown",
   "id": "6aea372c",
   "metadata": {},
   "source": [
    "### III.1.3 Node size"
   ]
  },
  {
   "cell_type": "code",
   "execution_count": null,
   "id": "c387b8c5",
   "metadata": {},
   "outputs": [],
   "source": [
    "if size_col==None:\n",
    "    S = 0.5*unit\n",
    "else:\n",
    "    S = DF[size_col].values\n",
    "    S = (S-np.min(S))/(np.max(S)-np.min(S))*(max_node_size-min_node_size)+min_node_size\n",
    "g.vs['size'] = S"
   ]
  },
  {
   "cell_type": "markdown",
   "id": "ec1c8801",
   "metadata": {},
   "source": [
    "## III.2 Edge metadata"
   ]
  },
  {
   "cell_type": "code",
   "execution_count": null,
   "id": "be9a6397",
   "metadata": {},
   "outputs": [],
   "source": [
    "if similarity >0:\n",
    "    g.es['color'] = [\"black\" if (edge['distance']>0.1 ) else \"red\" for edge in g.es]"
   ]
  },
  {
   "cell_type": "code",
   "execution_count": null,
   "id": "f14bc0ad",
   "metadata": {},
   "outputs": [],
   "source": [
    "g.get_edge_dataframe()"
   ]
  },
  {
   "cell_type": "markdown",
   "id": "b72d57f8",
   "metadata": {},
   "source": [
    "### Graph layout\n",
    "Creates a layout with the algorithm given by the keyword `layout_name` "
   ]
  },
  {
   "cell_type": "code",
   "execution_count": null,
   "id": "ab09edbc",
   "metadata": {},
   "outputs": [],
   "source": [
    "# Initialize layout with a seed (reproducibility)\n",
    "random.seed(42)\n",
    "np.random.seed(42)\n",
    "layout_seed = np.random.random([len(g.vs),2])"
   ]
  },
  {
   "cell_type": "markdown",
   "id": "2b26b2ba",
   "metadata": {},
   "source": [
    "# ToDo: Implement MDS and LgL"
   ]
  },
  {
   "cell_type": "code",
   "execution_count": null,
   "id": "061ec42f",
   "metadata": {},
   "outputs": [],
   "source": [
    "# Reingold-Fruchterman\n",
    "if layout_name == 'FR':\n",
    "    niter = 5000\n",
    "    weights = kxs.prop_log_weights(g)\n",
    "    g.es['weights'] = weights\n",
    "    l = g.layout_fruchterman_reingold(weights=weights,\\\n",
    "                                      seed=layout_seed,niter=niter)\n",
    "# Davidson-Harel\n",
    "elif layout_name == 'DH':\n",
    "    maxiter = 80\n",
    "    fineiter = 15\n",
    "    cool_fact = 0.95\n",
    "    weight_node_dist = 1000\n",
    "    weight_border = 20000000\n",
    "    weight_edge_lengths = 0.1\n",
    "    weight_edge_crossings = 1000\n",
    "    weight_node_edge_dist = 10000\n",
    "    l = g.layout_davidson_harel(seed=layout_seed, maxiter=maxiter, fineiter=fineiter,\\\n",
    "                                       cool_fact=cool_fact, weight_node_dist=weight_node_dist,\\\n",
    "                                       weight_border=weight_border,\\\n",
    "                                       weight_edge_lengths=weight_edge_lengths,\\\n",
    "                                       weight_edge_crossings=weight_edge_crossings,\\\n",
    "                                       weight_node_edge_dist=weight_node_edge_dist)\n",
    "# Graphopt\n",
    "elif layout_name == 'GO':\n",
    "    niter = 500\n",
    "    node_charge = 0.03\n",
    "    node_mass = 5\n",
    "    spring_length = 5\n",
    "    spring_constant = 0.5\n",
    "    max_sa_movement = 12\n",
    "    l = g.layout_graphopt(niter=niter, node_charge=node_charge, node_mass=node_mass,\\\n",
    "                          spring_length=spring_length, spring_constant=spring_constant,\\\n",
    "                          max_sa_movement=max_sa_movement, seed=layout_seed)"
   ]
  },
  {
   "cell_type": "markdown",
   "id": "0e2c403d",
   "metadata": {},
   "source": [
    "#### Plot generation"
   ]
  },
  {
   "cell_type": "code",
   "execution_count": null,
   "id": "90880b3f",
   "metadata": {},
   "outputs": [],
   "source": [
    "# IV. Plot generation\n",
    "if legend:\n",
    "    label_h = 0.5*unit\n",
    "    size = 0.25*unit\n",
    "    width,height = (24*unit,18*unit)\n",
    "    # Construct the plot\n",
    "    plot = ig.Plot(out_file, bbox=(width,height), background=\"white\")\n",
    "    plot.add(g, bbox=(1*unit, 1*unit, width-7*unit, height-1*unit),layout=l,\n",
    "             vertex_size=g.vs['size'])\n",
    "    plot.redraw()\n",
    "    ctx = cr.Context(plot.surface)\n",
    "    # Legend rectangle\n",
    "    n_labels = n_colors + bool(color_col)*1 + n_shapes + bool(shape_col)*1 + 3*bool(size_col)\n",
    "    rect_height = label_h*(n_labels)\n",
    "    rect_width = 3*unit # Change if the label is too long/short\n",
    "    coord = (19*unit,9*unit-rect_height/2) # standing coordinates x,y\n",
    "    ctx.rectangle(coord[0],coord[1], rect_width, rect_height)\n",
    "    ctx.set_source_rgb(1, 1, 1)\n",
    "    ctx.fill_preserve()\n",
    "    ctx.set_source_rgb(0, 0, 0)\n",
    "    ctx.set_line_width(2)\n",
    "    ctx.stroke()\n",
    "    # Legend items\n",
    "    coord=(coord[0]+label_h,coord[1] + label_h)\n",
    "    # Shape items\n",
    "    if shape_col:\n",
    "        for s in range(n_shapes):\n",
    "            funcs[s](ctx,coord,size)\n",
    "            coord = (coord[0] + 1.5*size,coord[1]+0.85*size)\n",
    "            draw_text(ctx,str(shape_labels[s]),coord,size)\n",
    "            coord = (coord[0]-1.5*size,coord[1]+1.15*size)\n",
    "        coord = (coord[0],coord[1]+size)\n",
    "    # Color items\n",
    "#     if custom_color:\n",
    "#         for k,v in val2col.items():\n",
    "#             #RGB = getcolor(v, \"RGB\")\n",
    "#             draw_circle(ctx,coord,size,in_color=(v[0],v[1],v[2]),\n",
    "#                        line_color=(v[0],v[1],v[2]))\n",
    "#             coord = (coord[0]+1.5*size,coord[1]+0.85*size)\n",
    "#             draw_text(ctx,str(k),coord,size)\n",
    "#             coord = (coord[0]-1.5*size,coord[1]+1.15*size)\n",
    "#         coord = (coord[0],coord[1]+size)\n",
    "    if color_col:\n",
    "        for l,v in label2RGB.items():\n",
    "            draw_circle(ctx,coord,size,in_color=(v[0],v[1],v[2]),\n",
    "                       line_color=(v[0],v[1],v[2]))\n",
    "            coord = (coord[0]+1.5*size,coord[1]+0.85*size)\n",
    "            draw_text(ctx,str(l),coord,size)\n",
    "            coord = (coord[0]-1.5*size,coord[1]+1.15*size)\n",
    "        coord = (coord[0],coord[1]+size)\n",
    "    # Size items\n",
    "    if size_col:\n",
    "        coord= (coord[0]+0.25*size,coord[1]+0.25*size)\n",
    "        draw_circle(ctx,coord,min_node_size)\n",
    "        coord = (coord[0]+4.5*size,coord[1]+0.6*size)\n",
    "        draw_text(ctx,str(DF[size_col].min()),coord,size)\n",
    "        \n",
    "        coord = (coord[0]-6.25*size,coord[1]+1.15*size)\n",
    "        draw_circle(ctx,coord,max_node_size,line_width = 0.05*size)\n",
    "        coord = (coord[0]+3*label_h,coord[1]+label_h)\n",
    "        draw_text(ctx,str(DF[size_col].max()),coord,size)\n",
    "    # Save the plot\n",
    "    plot.save()\n",
    "else:\n",
    "    visual_style = {\n",
    "        'bbox' : (0, 0, 600, 600),\n",
    "        'layout' : l,\n",
    "        \"margin\": 20,\n",
    "        \"autocurve\" : False\n",
    "        #'edge_width' : g.es['width'],\n",
    "    }\n",
    "    ig.plot(g,target=out_file,**visual_style)"
   ]
  },
  {
   "cell_type": "code",
   "execution_count": null,
   "id": "7750a4e7",
   "metadata": {},
   "outputs": [],
   "source": []
  },
  {
   "cell_type": "code",
   "execution_count": null,
   "id": "ec4e6c76",
   "metadata": {},
   "outputs": [],
   "source": []
  }
 ],
 "metadata": {
  "kernelspec": {
   "display_name": "network",
   "language": "python",
   "name": "network"
  },
  "language_info": {
   "codemirror_mode": {
    "name": "ipython",
    "version": 3
   },
   "file_extension": ".py",
   "mimetype": "text/x-python",
   "name": "python",
   "nbconvert_exporter": "python",
   "pygments_lexer": "ipython3",
   "version": "3.9.13"
  }
 },
 "nbformat": 4,
 "nbformat_minor": 5
}
