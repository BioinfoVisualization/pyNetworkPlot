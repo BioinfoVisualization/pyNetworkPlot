{
 "cells": [
  {
   "cell_type": "markdown",
   "id": "2cb07892",
   "metadata": {},
   "source": [
    "# pyNetworkPlot"
   ]
  },
  {
   "cell_type": "code",
   "execution_count": 1,
   "id": "82aa4008",
   "metadata": {},
   "outputs": [],
   "source": [
    "import sys, os\n",
    "import numpy as np\n",
    "import pandas as pd\n",
    "from matplotlib import pyplot as plt\n",
    "from polyleven import levenshtein as poly_lev\n",
    "#from collections import defaultdict\n",
    "import igraph as ig\n",
    "import random # layout seed\n",
    "import cairo as cr\n",
    "from igraph.drawing.text import TextDrawer\n",
    "from math import pi # Legend circles\n",
    "from PIL.ImageColor import getcolor"
   ]
  },
  {
   "cell_type": "code",
   "execution_count": 2,
   "id": "4fcd0071",
   "metadata": {},
   "outputs": [],
   "source": [
    "module_path = os.path.abspath(os.path.join('..', 'bin'))\n",
    "if module_path not in sys.path:\n",
    "    sys.path.append(module_path)"
   ]
  },
  {
   "cell_type": "code",
   "execution_count": 3,
   "id": "cb6b9217",
   "metadata": {},
   "outputs": [],
   "source": [
    "# from ../bin\n",
    "import spring_functions as kxs\n",
    "from data_functions import group_with_freq\n",
    "from drawing import *"
   ]
  },
  {
   "cell_type": "markdown",
   "id": "830db574",
   "metadata": {},
   "source": [
    "## Parameters"
   ]
  },
  {
   "cell_type": "code",
   "execution_count": 4,
   "id": "4d5a37f3",
   "metadata": {},
   "outputs": [],
   "source": [
    "pd.set_option('display.max_columns',None)"
   ]
  },
  {
   "cell_type": "markdown",
   "id": "638c7414",
   "metadata": {},
   "source": [
    "#### Data parameters"
   ]
  },
  {
   "cell_type": "markdown",
   "id": "cec0d610",
   "metadata": {},
   "source": [
    "out_file = '../results/N_glyc_all_Full_sim8.pdf'\n",
    "seq_col = 'Full_VH_VL'#Full_VH_VL or VDJ_REGION_AA_sequence_of_H\n",
    "color_col = 'Patient'\n",
    "custom_color = None#'../data/custom_colors.txt'\n",
    "shape_col = 'Any_N_glyc'#'receptor_revision'\n",
    "size_col = None\n",
    "#min_seq2show = 0 # integer\n",
    "group_unique = True # Boolean"
   ]
  },
  {
   "cell_type": "code",
   "execution_count": 5,
   "id": "fd1ccdab",
   "metadata": {},
   "outputs": [],
   "source": [
    "out_file = '../results/P274_Full_sim8.pdf'\n",
    "seq_col = 'Full_VH_VL'#Full_VH_VL or VDJ_REGION_AA_sequence_of_H\n",
    "color_col = 'lineage'\n",
    "custom_color = None#'../data/custom_colors.txt'\n",
    "shape_col = 'receptor_revision'#'receptor_revision'\n",
    "size_col = None\n",
    "#min_seq2show = 0 # integer\n",
    "group_unique = True # Boolean"
   ]
  },
  {
   "cell_type": "markdown",
   "id": "462d718f",
   "metadata": {},
   "source": [
    "#### Figure parameters"
   ]
  },
  {
   "cell_type": "code",
   "execution_count": 6,
   "id": "f2c20a90",
   "metadata": {},
   "outputs": [],
   "source": [
    "# Similarity threshold\n",
    "similarity = 8 # non-negative integer\n",
    "max_node_size=50\n",
    "min_node_size=5\n",
    "layout_name = 'FR' # Can be FR, DH, DrL, GO, LgL, MDS\n",
    "legend = True\n",
    "unit=100\n",
    "edge_width = 1.5"
   ]
  },
  {
   "cell_type": "code",
   "execution_count": 7,
   "id": "581735a6",
   "metadata": {},
   "outputs": [],
   "source": [
    "in_file = '../data/P274.xlsx'\n",
    "#in_file = '../data/P268.xlsx'\n",
    "file_type = in_file.split('.')[-1]\n",
    "if file_type == 'tsv':\n",
    "    DF = pd.read_csv(in_file,sep='\\t',index_col=0).reset_index(drop=True)\n",
    "elif file_type == 'xlsx':\n",
    "    DF = pd.read_excel(in_file,index_col=0)\n",
    "elif file_type == 'csv':\n",
    "    DF = pd.read_csv(in_file,sep=',',index_col=0).reset_index(drop=True)\n",
    "else:\n",
    "    raise NameError(\"Invalid input format. Has to be either .tsv, .csv or .xlsx.\")"
   ]
  },
  {
   "cell_type": "code",
   "execution_count": 8,
   "id": "5f2a7a84",
   "metadata": {},
   "outputs": [
    {
     "data": {
      "text/html": [
       "<div>\n",
       "<style scoped>\n",
       "    .dataframe tbody tr th:only-of-type {\n",
       "        vertical-align: middle;\n",
       "    }\n",
       "\n",
       "    .dataframe tbody tr th {\n",
       "        vertical-align: top;\n",
       "    }\n",
       "\n",
       "    .dataframe thead th {\n",
       "        text-align: right;\n",
       "    }\n",
       "</style>\n",
       "<table border=\"1\" class=\"dataframe\">\n",
       "  <thead>\n",
       "    <tr style=\"text-align: right;\">\n",
       "      <th></th>\n",
       "      <th>receptor_revision</th>\n",
       "      <th>lineage</th>\n",
       "      <th>VDJ_REGION_AA_sequence_of_H</th>\n",
       "      <th>Full_VH_VL</th>\n",
       "    </tr>\n",
       "  </thead>\n",
       "  <tbody>\n",
       "    <tr>\n",
       "      <th>0</th>\n",
       "      <td>yes</td>\n",
       "      <td>274-1</td>\n",
       "      <td>EVQLVESGGGLVQPGGSLRLSCAASGFSFTNHAMSWVRQAPGKGLE...</td>\n",
       "      <td>EVQLVESGGGLVQPGGSLRLSCAASGFSFTNHAMSWVRQAPGKGLE...</td>\n",
       "    </tr>\n",
       "    <tr>\n",
       "      <th>1</th>\n",
       "      <td>yes</td>\n",
       "      <td>274-1</td>\n",
       "      <td>EVQLVESGGGLVQPGGSLRLSCAASGFSFTNHAMSWVRQAPGKGLE...</td>\n",
       "      <td>EVQLVESGGGLVQPGGSLRLSCAASGFSFTNHAMSWVRQAPGKGLE...</td>\n",
       "    </tr>\n",
       "    <tr>\n",
       "      <th>2</th>\n",
       "      <td>yes</td>\n",
       "      <td>274-2</td>\n",
       "      <td>EVQLVESGGGLVQPGGSLRLSCVASGFTFNDHWMTWVRQAPGKGLE...</td>\n",
       "      <td>EVQLVESGGGLVQPGGSLRLSCVASGFTFNDHWMTWVRQAPGKGLE...</td>\n",
       "    </tr>\n",
       "    <tr>\n",
       "      <th>3</th>\n",
       "      <td>yes</td>\n",
       "      <td>274-2</td>\n",
       "      <td>EVQLVESGGGLVQPGGSLRLSCVASGFTFNDHWMTWVRQAPGKGLE...</td>\n",
       "      <td>EVQLVESGGGLVQPGGSLRLSCVASGFTFNDHWMTWVRQAPGKGLE...</td>\n",
       "    </tr>\n",
       "    <tr>\n",
       "      <th>4</th>\n",
       "      <td>yes</td>\n",
       "      <td>274-3</td>\n",
       "      <td>QVQLVQSGPDLREPGSSVKVSCQAPSDLFSSHSFSWVRQAPGQGLE...</td>\n",
       "      <td>QVQLVQSGPDLREPGSSVKVSCQAPSDLFSSHSFSWVRQAPGQGLE...</td>\n",
       "    </tr>\n",
       "    <tr>\n",
       "      <th>5</th>\n",
       "      <td>yes</td>\n",
       "      <td>274-3</td>\n",
       "      <td>EVQLVQSGPGLRAPGSSVKVSCQAPSDLFSSHSFSWVRQAPGQGLE...</td>\n",
       "      <td>EVQLVQSGPGLRAPGSSVKVSCQAPSDLFSSHSFSWVRQAPGQGLE...</td>\n",
       "    </tr>\n",
       "  </tbody>\n",
       "</table>\n",
       "</div>"
      ],
      "text/plain": [
       "  receptor_revision lineage  \\\n",
       "0               yes   274-1   \n",
       "1               yes   274-1   \n",
       "2               yes   274-2   \n",
       "3               yes   274-2   \n",
       "4               yes   274-3   \n",
       "5               yes   274-3   \n",
       "\n",
       "                         VDJ_REGION_AA_sequence_of_H  \\\n",
       "0  EVQLVESGGGLVQPGGSLRLSCAASGFSFTNHAMSWVRQAPGKGLE...   \n",
       "1  EVQLVESGGGLVQPGGSLRLSCAASGFSFTNHAMSWVRQAPGKGLE...   \n",
       "2  EVQLVESGGGLVQPGGSLRLSCVASGFTFNDHWMTWVRQAPGKGLE...   \n",
       "3  EVQLVESGGGLVQPGGSLRLSCVASGFTFNDHWMTWVRQAPGKGLE...   \n",
       "4  QVQLVQSGPDLREPGSSVKVSCQAPSDLFSSHSFSWVRQAPGQGLE...   \n",
       "5  EVQLVQSGPGLRAPGSSVKVSCQAPSDLFSSHSFSWVRQAPGQGLE...   \n",
       "\n",
       "                                          Full_VH_VL  \n",
       "0  EVQLVESGGGLVQPGGSLRLSCAASGFSFTNHAMSWVRQAPGKGLE...  \n",
       "1  EVQLVESGGGLVQPGGSLRLSCAASGFSFTNHAMSWVRQAPGKGLE...  \n",
       "2  EVQLVESGGGLVQPGGSLRLSCVASGFTFNDHWMTWVRQAPGKGLE...  \n",
       "3  EVQLVESGGGLVQPGGSLRLSCVASGFTFNDHWMTWVRQAPGKGLE...  \n",
       "4  QVQLVQSGPDLREPGSSVKVSCQAPSDLFSSHSFSWVRQAPGQGLE...  \n",
       "5  EVQLVQSGPGLRAPGSSVKVSCQAPSDLFSSHSFSWVRQAPGQGLE...  "
      ]
     },
     "execution_count": 8,
     "metadata": {},
     "output_type": "execute_result"
    }
   ],
   "source": [
    "DF"
   ]
  },
  {
   "cell_type": "code",
   "execution_count": 9,
   "id": "d6ef6c56",
   "metadata": {},
   "outputs": [
    {
     "data": {
      "text/html": [
       "<div>\n",
       "<style scoped>\n",
       "    .dataframe tbody tr th:only-of-type {\n",
       "        vertical-align: middle;\n",
       "    }\n",
       "\n",
       "    .dataframe tbody tr th {\n",
       "        vertical-align: top;\n",
       "    }\n",
       "\n",
       "    .dataframe thead th {\n",
       "        text-align: right;\n",
       "    }\n",
       "</style>\n",
       "<table border=\"1\" class=\"dataframe\">\n",
       "  <thead>\n",
       "    <tr style=\"text-align: right;\">\n",
       "      <th></th>\n",
       "      <th>Full_VH_VL</th>\n",
       "      <th>lineage</th>\n",
       "      <th>receptor_revision</th>\n",
       "    </tr>\n",
       "  </thead>\n",
       "  <tbody>\n",
       "    <tr>\n",
       "      <th>0</th>\n",
       "      <td>EVQLVESGGGLVQPGGSLRLSCAASGFSFTNHAMSWVRQAPGKGLE...</td>\n",
       "      <td>274-1</td>\n",
       "      <td>yes</td>\n",
       "    </tr>\n",
       "    <tr>\n",
       "      <th>1</th>\n",
       "      <td>EVQLVESGGGLVQPGGSLRLSCAASGFSFTNHAMSWVRQAPGKGLE...</td>\n",
       "      <td>274-1</td>\n",
       "      <td>yes</td>\n",
       "    </tr>\n",
       "    <tr>\n",
       "      <th>2</th>\n",
       "      <td>EVQLVESGGGLVQPGGSLRLSCVASGFTFNDHWMTWVRQAPGKGLE...</td>\n",
       "      <td>274-2</td>\n",
       "      <td>yes</td>\n",
       "    </tr>\n",
       "    <tr>\n",
       "      <th>3</th>\n",
       "      <td>EVQLVESGGGLVQPGGSLRLSCVASGFTFNDHWMTWVRQAPGKGLE...</td>\n",
       "      <td>274-2</td>\n",
       "      <td>yes</td>\n",
       "    </tr>\n",
       "    <tr>\n",
       "      <th>4</th>\n",
       "      <td>QVQLVQSGPDLREPGSSVKVSCQAPSDLFSSHSFSWVRQAPGQGLE...</td>\n",
       "      <td>274-3</td>\n",
       "      <td>yes</td>\n",
       "    </tr>\n",
       "    <tr>\n",
       "      <th>5</th>\n",
       "      <td>EVQLVQSGPGLRAPGSSVKVSCQAPSDLFSSHSFSWVRQAPGQGLE...</td>\n",
       "      <td>274-3</td>\n",
       "      <td>yes</td>\n",
       "    </tr>\n",
       "  </tbody>\n",
       "</table>\n",
       "</div>"
      ],
      "text/plain": [
       "                                          Full_VH_VL lineage receptor_revision\n",
       "0  EVQLVESGGGLVQPGGSLRLSCAASGFSFTNHAMSWVRQAPGKGLE...   274-1               yes\n",
       "1  EVQLVESGGGLVQPGGSLRLSCAASGFSFTNHAMSWVRQAPGKGLE...   274-1               yes\n",
       "2  EVQLVESGGGLVQPGGSLRLSCVASGFTFNDHWMTWVRQAPGKGLE...   274-2               yes\n",
       "3  EVQLVESGGGLVQPGGSLRLSCVASGFTFNDHWMTWVRQAPGKGLE...   274-2               yes\n",
       "4  QVQLVQSGPDLREPGSSVKVSCQAPSDLFSSHSFSWVRQAPGQGLE...   274-3               yes\n",
       "5  EVQLVQSGPGLRAPGSSVKVSCQAPSDLFSSHSFSWVRQAPGQGLE...   274-3               yes"
      ]
     },
     "execution_count": 9,
     "metadata": {},
     "output_type": "execute_result"
    }
   ],
   "source": [
    "new_columns = bool(seq_col)*[seq_col]+bool(color_col)*[color_col]+bool(shape_col)*[shape_col]+\\\n",
    "bool(size_col)*[size_col]\n",
    "new_columns\n",
    "DF = DF.loc[:,new_columns]\n",
    "DF"
   ]
  },
  {
   "cell_type": "code",
   "execution_count": 10,
   "id": "23a5f3bd",
   "metadata": {},
   "outputs": [],
   "source": [
    "nan_cols = []\n",
    "for c in DF.columns:\n",
    "    if np.any(DF.loc[:,c].isna()):\n",
    "        nan_cols.append(c)\n",
    "if len(nan_cols)>0:\n",
    "    raise ValueError('The columns ', nan_cols, ' have NaN values.')"
   ]
  },
  {
   "cell_type": "code",
   "execution_count": 11,
   "id": "faaa8b34",
   "metadata": {},
   "outputs": [
    {
     "data": {
      "text/html": [
       "<div>\n",
       "<style scoped>\n",
       "    .dataframe tbody tr th:only-of-type {\n",
       "        vertical-align: middle;\n",
       "    }\n",
       "\n",
       "    .dataframe tbody tr th {\n",
       "        vertical-align: top;\n",
       "    }\n",
       "\n",
       "    .dataframe thead th {\n",
       "        text-align: right;\n",
       "    }\n",
       "</style>\n",
       "<table border=\"1\" class=\"dataframe\">\n",
       "  <thead>\n",
       "    <tr style=\"text-align: right;\">\n",
       "      <th></th>\n",
       "      <th>Full_VH_VL</th>\n",
       "      <th>lineage</th>\n",
       "      <th>receptor_revision</th>\n",
       "      <th>freq_Full_VH_VL</th>\n",
       "      <th>group_Full_VH_VL</th>\n",
       "    </tr>\n",
       "  </thead>\n",
       "  <tbody>\n",
       "    <tr>\n",
       "      <th>0</th>\n",
       "      <td>QVQLVQSGPDLREPGSSVKVSCQAPSDLFSSHSFSWVRQAPGQGLE...</td>\n",
       "      <td>274-3</td>\n",
       "      <td>yes</td>\n",
       "      <td>1</td>\n",
       "      <td>0</td>\n",
       "    </tr>\n",
       "    <tr>\n",
       "      <th>1</th>\n",
       "      <td>EVQLVQSGPGLRAPGSSVKVSCQAPSDLFSSHSFSWVRQAPGQGLE...</td>\n",
       "      <td>274-3</td>\n",
       "      <td>yes</td>\n",
       "      <td>1</td>\n",
       "      <td>0</td>\n",
       "    </tr>\n",
       "    <tr>\n",
       "      <th>2</th>\n",
       "      <td>EVQLVESGGGLVQPGGSLRLSCVASGFTFNDHWMTWVRQAPGKGLE...</td>\n",
       "      <td>274-2</td>\n",
       "      <td>yes</td>\n",
       "      <td>1</td>\n",
       "      <td>0</td>\n",
       "    </tr>\n",
       "    <tr>\n",
       "      <th>3</th>\n",
       "      <td>EVQLVESGGGLVQPGGSLRLSCVASGFTFNDHWMTWVRQAPGKGLE...</td>\n",
       "      <td>274-2</td>\n",
       "      <td>yes</td>\n",
       "      <td>1</td>\n",
       "      <td>0</td>\n",
       "    </tr>\n",
       "    <tr>\n",
       "      <th>4</th>\n",
       "      <td>EVQLVESGGGLVQPGGSLRLSCAASGFSFTNHAMSWVRQAPGKGLE...</td>\n",
       "      <td>274-1</td>\n",
       "      <td>yes</td>\n",
       "      <td>1</td>\n",
       "      <td>0</td>\n",
       "    </tr>\n",
       "    <tr>\n",
       "      <th>5</th>\n",
       "      <td>EVQLVESGGGLVQPGGSLRLSCAASGFSFTNHAMSWVRQAPGKGLE...</td>\n",
       "      <td>274-1</td>\n",
       "      <td>yes</td>\n",
       "      <td>1</td>\n",
       "      <td>0</td>\n",
       "    </tr>\n",
       "  </tbody>\n",
       "</table>\n",
       "</div>"
      ],
      "text/plain": [
       "                                          Full_VH_VL lineage  \\\n",
       "0  QVQLVQSGPDLREPGSSVKVSCQAPSDLFSSHSFSWVRQAPGQGLE...   274-3   \n",
       "1  EVQLVQSGPGLRAPGSSVKVSCQAPSDLFSSHSFSWVRQAPGQGLE...   274-3   \n",
       "2  EVQLVESGGGLVQPGGSLRLSCVASGFTFNDHWMTWVRQAPGKGLE...   274-2   \n",
       "3  EVQLVESGGGLVQPGGSLRLSCVASGFTFNDHWMTWVRQAPGKGLE...   274-2   \n",
       "4  EVQLVESGGGLVQPGGSLRLSCAASGFSFTNHAMSWVRQAPGKGLE...   274-1   \n",
       "5  EVQLVESGGGLVQPGGSLRLSCAASGFSFTNHAMSWVRQAPGKGLE...   274-1   \n",
       "\n",
       "  receptor_revision  freq_Full_VH_VL  group_Full_VH_VL  \n",
       "0               yes                1                 0  \n",
       "1               yes                1                 0  \n",
       "2               yes                1                 0  \n",
       "3               yes                1                 0  \n",
       "4               yes                1                 0  \n",
       "5               yes                1                 0  "
      ]
     },
     "execution_count": 11,
     "metadata": {},
     "output_type": "execute_result"
    }
   ],
   "source": [
    "DF = group_with_freq(DF,seq_col,\\\n",
    "                     group_unique).sort_values(['freq_'+seq_col,seq_col],\\\n",
    "                                               ascending=False).reset_index(drop=True)\n",
    "DF.loc[DF['group_'+seq_col]==-1,'group_'+seq_col]=DF['group_'+seq_col].max()+1\n",
    "DF"
   ]
  },
  {
   "cell_type": "markdown",
   "id": "074e7957",
   "metadata": {},
   "source": [
    "# II. Distance matrix calculation"
   ]
  },
  {
   "cell_type": "code",
   "execution_count": 12,
   "id": "c914e0de",
   "metadata": {
    "scrolled": true
   },
   "outputs": [
    {
     "name": "stdout",
     "output_type": "stream",
     "text": [
      "0.00 % completed\n",
      "16.67 % completed\n",
      "33.33 % completed\n",
      "50.00 % completed\n",
      "66.67 % completed\n",
      "83.33 % completed\n"
     ]
    }
   ],
   "source": [
    "seqs = DF.loc[:,seq_col].values\n",
    "#idx2seq = {i:seq for i,seq in enumerate(seqs)}\n",
    "L = len(seqs)\n",
    "dist = np.zeros([L,L])\n",
    "t = np.ceil(L/100)\n",
    "for i in range(L):\n",
    "    for j in range(L):\n",
    "        dist[i,j]=poly_lev(seqs[i],seqs[j])\n",
    "    if i%t==0:\n",
    "        print(\"%.2f %% completed\"%(i*100/L))"
   ]
  },
  {
   "cell_type": "code",
   "execution_count": null,
   "id": "5e5d1742",
   "metadata": {},
   "outputs": [],
   "source": [
    "# Definite adjacency and weight matrices\n",
    "eps = 0.1 # Distance delta\n",
    "adj = dist.copy()\n",
    "adj[adj<=similarity]=-1\n",
    "adj[adj>similarity]=0\n",
    "adj[adj==-1]=1\n",
    "W = np.multiply(adj,dist+eps)"
   ]
  },
  {
   "cell_type": "code",
   "execution_count": 14,
   "id": "43cd7d23",
   "metadata": {},
   "outputs": [
    {
     "data": {
      "text/plain": [
       "<matplotlib.colorbar.Colorbar at 0x7f2f5d65d070>"
      ]
     },
     "execution_count": 14,
     "metadata": {},
     "output_type": "execute_result"
    },
    {
     "data": {
      "image/png": "[encoded data removed]",
      "text/plain": [
       "<Figure size 432x288 with 2 Axes>"
      ]
     },
     "metadata": {
      "needs_background": "light"
     },
     "output_type": "display_data"
    }
   ],
   "source": [
    "plt.imshow(dist)\n",
    "plt.colorbar()"
   ]
  },
  {
   "cell_type": "markdown",
   "id": "ac87dce6",
   "metadata": {},
   "source": [
    "# III. Graph generation and plotting"
   ]
  },
  {
   "cell_type": "code",
   "execution_count": 15,
   "id": "c0126eec",
   "metadata": {},
   "outputs": [],
   "source": [
    "# Create graph object\n",
    "g = ig.Graph.Weighted_Adjacency(W,mode='undirected',attr='distance',loops=False)"
   ]
  },
  {
   "cell_type": "markdown",
   "id": "09687f26",
   "metadata": {},
   "source": [
    "## III.1 Node metadata"
   ]
  },
  {
   "cell_type": "code",
   "execution_count": 16,
   "id": "c97a1fe3",
   "metadata": {},
   "outputs": [],
   "source": [
    "# Assigns a cluster value based on connected subgraphs. Useful for spring weight\n",
    "g.vs['cluster'] = DF.loc[:,'group_'+seq_col]\n",
    "g.vs['freq'] = DF.loc[:,'freq_'+seq_col]"
   ]
  },
  {
   "cell_type": "markdown",
   "id": "ee5225d4",
   "metadata": {},
   "source": [
    "### III.1.1 Node color\n",
    "Define the fields `plot_label`, which will be the label in the legend of the plot, and `color` for each node. Depending on the type of label, the colouring and the labels will be different."
   ]
  },
  {
   "cell_type": "code",
   "execution_count": 17,
   "id": "26e949b2",
   "metadata": {},
   "outputs": [],
   "source": [
    "if custom_color:\n",
    "    label2RGB = {}\n",
    "    with open(custom_color) as file:\n",
    "        for line in file:\n",
    "            (key, value) = line.strip().split(',')\n",
    "            if key in DF.loc[:,color_col].astype(str).values:\n",
    "                label2RGB[int(key)] = tuple(v/255 for v in getcolor(value,'RGB'))\n",
    "    n_colors = len(label2RGB)\n",
    "    g.vs['color'] = DF.loc[:,color_col].map(label2RGB.get).values\n",
    "elif color_col:\n",
    "    color_label = DF.loc[:,color_col].values\n",
    "    ## COLOR PALETTE ##\n",
    "    # Define unique group labels\n",
    "    _, idx = np.unique(color_label,return_index=True)\n",
    "    labs = color_label[np.sort(idx)]\n",
    "    n_colors = len(labs)\n",
    "    # Create color pallete based on number of groups\n",
    "    pal = ig.drawing.colors.ClusterColoringPalette(n_colors)\n",
    "    label2RGB = {l:pal.get_many(c)[0] for c,l in enumerate(np.sort(labs))} # Numbering each label\n",
    "    g.vs['color'] = [label2RGB[l] for l in color_label]\n",
    "else:\n",
    "    n_colors = 0"
   ]
  },
  {
   "cell_type": "code",
   "execution_count": 18,
   "id": "b6034b5c",
   "metadata": {},
   "outputs": [
    {
     "data": {
      "text/plain": [
       "{'274-1': (1.0, 0.0, 0.0, 1.0),\n",
       " '274-2': (0.0, 1.0, 0.0, 1.0),\n",
       " '274-3': (0.0, 0.0, 1.0, 1.0)}"
      ]
     },
     "execution_count": 18,
     "metadata": {},
     "output_type": "execute_result"
    }
   ],
   "source": [
    "label2RGB"
   ]
  },
  {
   "cell_type": "code",
   "execution_count": 19,
   "id": "ed12c02f",
   "metadata": {},
   "outputs": [
    {
     "data": {
      "text/html": [
       "<div>\n",
       "<style scoped>\n",
       "    .dataframe tbody tr th:only-of-type {\n",
       "        vertical-align: middle;\n",
       "    }\n",
       "\n",
       "    .dataframe tbody tr th {\n",
       "        vertical-align: top;\n",
       "    }\n",
       "\n",
       "    .dataframe thead th {\n",
       "        text-align: right;\n",
       "    }\n",
       "</style>\n",
       "<table border=\"1\" class=\"dataframe\">\n",
       "  <thead>\n",
       "    <tr style=\"text-align: right;\">\n",
       "      <th></th>\n",
       "      <th>cluster</th>\n",
       "      <th>freq</th>\n",
       "      <th>color</th>\n",
       "    </tr>\n",
       "    <tr>\n",
       "      <th>vertex ID</th>\n",
       "      <th></th>\n",
       "      <th></th>\n",
       "      <th></th>\n",
       "    </tr>\n",
       "  </thead>\n",
       "  <tbody>\n",
       "    <tr>\n",
       "      <th>0</th>\n",
       "      <td>0</td>\n",
       "      <td>1</td>\n",
       "      <td>(0.0, 0.0, 1.0, 1.0)</td>\n",
       "    </tr>\n",
       "    <tr>\n",
       "      <th>1</th>\n",
       "      <td>0</td>\n",
       "      <td>1</td>\n",
       "      <td>(0.0, 0.0, 1.0, 1.0)</td>\n",
       "    </tr>\n",
       "    <tr>\n",
       "      <th>2</th>\n",
       "      <td>0</td>\n",
       "      <td>1</td>\n",
       "      <td>(0.0, 1.0, 0.0, 1.0)</td>\n",
       "    </tr>\n",
       "    <tr>\n",
       "      <th>3</th>\n",
       "      <td>0</td>\n",
       "      <td>1</td>\n",
       "      <td>(0.0, 1.0, 0.0, 1.0)</td>\n",
       "    </tr>\n",
       "    <tr>\n",
       "      <th>4</th>\n",
       "      <td>0</td>\n",
       "      <td>1</td>\n",
       "      <td>(1.0, 0.0, 0.0, 1.0)</td>\n",
       "    </tr>\n",
       "    <tr>\n",
       "      <th>5</th>\n",
       "      <td>0</td>\n",
       "      <td>1</td>\n",
       "      <td>(1.0, 0.0, 0.0, 1.0)</td>\n",
       "    </tr>\n",
       "  </tbody>\n",
       "</table>\n",
       "</div>"
      ],
      "text/plain": [
       "           cluster  freq                 color\n",
       "vertex ID                                     \n",
       "0                0     1  (0.0, 0.0, 1.0, 1.0)\n",
       "1                0     1  (0.0, 0.0, 1.0, 1.0)\n",
       "2                0     1  (0.0, 1.0, 0.0, 1.0)\n",
       "3                0     1  (0.0, 1.0, 0.0, 1.0)\n",
       "4                0     1  (1.0, 0.0, 0.0, 1.0)\n",
       "5                0     1  (1.0, 0.0, 0.0, 1.0)"
      ]
     },
     "execution_count": 19,
     "metadata": {},
     "output_type": "execute_result"
    }
   ],
   "source": [
    "g.get_vertex_dataframe()"
   ]
  },
  {
   "cell_type": "markdown",
   "id": "c971432d",
   "metadata": {},
   "source": [
    "### III.1.2 Node shape"
   ]
  },
  {
   "cell_type": "code",
   "execution_count": 20,
   "id": "29022609",
   "metadata": {},
   "outputs": [],
   "source": [
    "if shape_col == None:\n",
    "    g.vs['shape'] = 'circle'\n",
    "    n_shapes = 0\n",
    "else:\n",
    "    shapes = ['circle','rectangle','triangle-up','triangle-down','diamond']\n",
    "    funcs = [draw_circle,draw_square,draw_triangle_up,draw_triangle_down,draw_diamond]\n",
    "    shape_labels = DF[shape_col].unique()\n",
    "    n_shapes = len(shape_labels)\n",
    "    if n_shapes > 5:\n",
    "        raise ValueError('There can not be more than 5 shapes.')\n",
    "    else:\n",
    "        shapes = shapes[:n_shapes]\n",
    "        shape_dic = {shape_labels[i]:shapes[i] for i in range(n_shapes)}\n",
    "    g.vs['shape'] = DF.loc[:,shape_col].replace(shape_dic)"
   ]
  },
  {
   "cell_type": "markdown",
   "id": "6aea372c",
   "metadata": {},
   "source": [
    "### III.1.3 Node size"
   ]
  },
  {
   "cell_type": "code",
   "execution_count": 21,
   "id": "c387b8c5",
   "metadata": {},
   "outputs": [],
   "source": [
    "if size_col==None:\n",
    "    S = 1.5*unit\n",
    "else:\n",
    "    S = DF[size_col].values\n",
    "    S = (S-np.min(S))/(np.max(S)-np.min(S))*(max_node_size-min_node_size)+min_node_size\n",
    "g.vs['size'] = S"
   ]
  },
  {
   "cell_type": "markdown",
   "id": "ec1c8801",
   "metadata": {},
   "source": [
    "## III.2 Edge metadata"
   ]
  },
  {
   "cell_type": "code",
   "execution_count": null,
   "id": "be9a6397",
   "metadata": {},
   "outputs": [],
   "source": [
    "g.es['color'] = [\"black\" if (edge['distance']>0.1 ) else \"red\" for edge in g.es]"
   ]
  },
  {
   "cell_type": "code",
   "execution_count": 23,
   "id": "f14bc0ad",
   "metadata": {},
   "outputs": [
    {
     "data": {
      "text/html": [
       "<div>\n",
       "<style scoped>\n",
       "    .dataframe tbody tr th:only-of-type {\n",
       "        vertical-align: middle;\n",
       "    }\n",
       "\n",
       "    .dataframe tbody tr th {\n",
       "        vertical-align: top;\n",
       "    }\n",
       "\n",
       "    .dataframe thead th {\n",
       "        text-align: right;\n",
       "    }\n",
       "</style>\n",
       "<table border=\"1\" class=\"dataframe\">\n",
       "  <thead>\n",
       "    <tr style=\"text-align: right;\">\n",
       "      <th></th>\n",
       "      <th>source</th>\n",
       "      <th>target</th>\n",
       "      <th>distance</th>\n",
       "      <th>color</th>\n",
       "    </tr>\n",
       "    <tr>\n",
       "      <th>edge ID</th>\n",
       "      <th></th>\n",
       "      <th></th>\n",
       "      <th></th>\n",
       "      <th></th>\n",
       "    </tr>\n",
       "  </thead>\n",
       "  <tbody>\n",
       "    <tr>\n",
       "      <th>0</th>\n",
       "      <td>0</td>\n",
       "      <td>5</td>\n",
       "      <td>0.1</td>\n",
       "      <td>white</td>\n",
       "    </tr>\n",
       "  </tbody>\n",
       "</table>\n",
       "</div>"
      ],
      "text/plain": [
       "         source  target  distance  color\n",
       "edge ID                                 \n",
       "0             0       5       0.1  white"
      ]
     },
     "execution_count": 23,
     "metadata": {},
     "output_type": "execute_result"
    }
   ],
   "source": [
    "g.get_edge_dataframe()"
   ]
  },
  {
   "cell_type": "markdown",
   "id": "b72d57f8",
   "metadata": {},
   "source": [
    "### Graph layout\n",
    "Creates a layout with the algorithm given by the keyword `layout_name` "
   ]
  },
  {
   "cell_type": "code",
   "execution_count": 24,
   "id": "ab09edbc",
   "metadata": {},
   "outputs": [],
   "source": [
    "# Initialize layout with a seed (reproducibility)\n",
    "random.seed(42)\n",
    "np.random.seed(42)\n",
    "layout_seed = np.random.random([len(g.vs),2])"
   ]
  },
  {
   "cell_type": "markdown",
   "id": "2b26b2ba",
   "metadata": {},
   "source": [
    "# ToDo: Implement MDS and LgL"
   ]
  },
  {
   "cell_type": "code",
   "execution_count": 25,
   "id": "061ec42f",
   "metadata": {},
   "outputs": [],
   "source": [
    "# Reingold-Fruchterman\n",
    "if layout_name == 'FR':\n",
    "    niter = 5000\n",
    "    weights = kxs.prop_log_weights(g)\n",
    "    g.es['weights'] = weights\n",
    "    l = g.layout_fruchterman_reingold(weights=weights,\\\n",
    "                                      seed=layout_seed,niter=niter)\n",
    "# Davidson-Harel\n",
    "elif layout_name == 'DH':\n",
    "    maxiter = 80\n",
    "    fineiter = 15\n",
    "    cool_fact = 0.95\n",
    "    weight_node_dist = 1000\n",
    "    weight_border = 20000000\n",
    "    weight_edge_lengths = 0.1\n",
    "    weight_edge_crossings = 1000\n",
    "    weight_node_edge_dist = 10000\n",
    "    l = g.layout_davidson_harel(seed=layout_seed, maxiter=maxiter, fineiter=fineiter,\\\n",
    "                                       cool_fact=cool_fact, weight_node_dist=weight_node_dist,\\\n",
    "                                       weight_border=weight_border,\\\n",
    "                                       weight_edge_lengths=weight_edge_lengths,\\\n",
    "                                       weight_edge_crossings=weight_edge_crossings,\\\n",
    "                                       weight_node_edge_dist=weight_node_edge_dist)\n",
    "# Graphopt\n",
    "elif layout_name == 'GO':\n",
    "    niter = 500\n",
    "    node_charge = 0.03\n",
    "    node_mass = 5\n",
    "    spring_length = 5\n",
    "    spring_constant = 0.5\n",
    "    max_sa_movement = 12\n",
    "    l = g.layout_graphopt(niter=niter, node_charge=node_charge, node_mass=node_mass,\\\n",
    "                          spring_length=spring_length, spring_constant=spring_constant,\\\n",
    "                          max_sa_movement=max_sa_movement, seed=layout_seed)"
   ]
  },
  {
   "cell_type": "code",
   "execution_count": 26,
   "id": "d0b6d4a2",
   "metadata": {},
   "outputs": [
    {
     "data": {
      "text/html": [
       "<div>\n",
       "<style scoped>\n",
       "    .dataframe tbody tr th:only-of-type {\n",
       "        vertical-align: middle;\n",
       "    }\n",
       "\n",
       "    .dataframe tbody tr th {\n",
       "        vertical-align: top;\n",
       "    }\n",
       "\n",
       "    .dataframe thead th {\n",
       "        text-align: right;\n",
       "    }\n",
       "</style>\n",
       "<table border=\"1\" class=\"dataframe\">\n",
       "  <thead>\n",
       "    <tr style=\"text-align: right;\">\n",
       "      <th></th>\n",
       "      <th>cluster</th>\n",
       "      <th>freq</th>\n",
       "      <th>color</th>\n",
       "      <th>shape</th>\n",
       "      <th>size</th>\n",
       "    </tr>\n",
       "    <tr>\n",
       "      <th>vertex ID</th>\n",
       "      <th></th>\n",
       "      <th></th>\n",
       "      <th></th>\n",
       "      <th></th>\n",
       "      <th></th>\n",
       "    </tr>\n",
       "  </thead>\n",
       "  <tbody>\n",
       "    <tr>\n",
       "      <th>0</th>\n",
       "      <td>0</td>\n",
       "      <td>1</td>\n",
       "      <td>(0.0, 0.0, 1.0, 1.0)</td>\n",
       "      <td>circle</td>\n",
       "      <td>150.0</td>\n",
       "    </tr>\n",
       "    <tr>\n",
       "      <th>1</th>\n",
       "      <td>0</td>\n",
       "      <td>1</td>\n",
       "      <td>(0.0, 0.0, 1.0, 1.0)</td>\n",
       "      <td>circle</td>\n",
       "      <td>150.0</td>\n",
       "    </tr>\n",
       "    <tr>\n",
       "      <th>2</th>\n",
       "      <td>0</td>\n",
       "      <td>1</td>\n",
       "      <td>(0.0, 1.0, 0.0, 1.0)</td>\n",
       "      <td>circle</td>\n",
       "      <td>150.0</td>\n",
       "    </tr>\n",
       "    <tr>\n",
       "      <th>3</th>\n",
       "      <td>0</td>\n",
       "      <td>1</td>\n",
       "      <td>(0.0, 1.0, 0.0, 1.0)</td>\n",
       "      <td>circle</td>\n",
       "      <td>150.0</td>\n",
       "    </tr>\n",
       "    <tr>\n",
       "      <th>4</th>\n",
       "      <td>0</td>\n",
       "      <td>1</td>\n",
       "      <td>(1.0, 0.0, 0.0, 1.0)</td>\n",
       "      <td>circle</td>\n",
       "      <td>150.0</td>\n",
       "    </tr>\n",
       "    <tr>\n",
       "      <th>5</th>\n",
       "      <td>0</td>\n",
       "      <td>1</td>\n",
       "      <td>(1.0, 0.0, 0.0, 1.0)</td>\n",
       "      <td>circle</td>\n",
       "      <td>150.0</td>\n",
       "    </tr>\n",
       "  </tbody>\n",
       "</table>\n",
       "</div>"
      ],
      "text/plain": [
       "           cluster  freq                 color   shape   size\n",
       "vertex ID                                                    \n",
       "0                0     1  (0.0, 0.0, 1.0, 1.0)  circle  150.0\n",
       "1                0     1  (0.0, 0.0, 1.0, 1.0)  circle  150.0\n",
       "2                0     1  (0.0, 1.0, 0.0, 1.0)  circle  150.0\n",
       "3                0     1  (0.0, 1.0, 0.0, 1.0)  circle  150.0\n",
       "4                0     1  (1.0, 0.0, 0.0, 1.0)  circle  150.0\n",
       "5                0     1  (1.0, 0.0, 0.0, 1.0)  circle  150.0"
      ]
     },
     "execution_count": 26,
     "metadata": {},
     "output_type": "execute_result"
    }
   ],
   "source": [
    "g.get_vertex_dataframe()"
   ]
  },
  {
   "cell_type": "markdown",
   "id": "0e2c403d",
   "metadata": {},
   "source": [
    "#### Plot generation"
   ]
  },
  {
   "cell_type": "code",
   "execution_count": 27,
   "id": "90880b3f",
   "metadata": {},
   "outputs": [],
   "source": [
    "# IV. Plot generation\n",
    "if legend:\n",
    "    label_h = 0.5*unit\n",
    "    size = 0.25*unit\n",
    "    width,height = (24*unit,18*unit)\n",
    "    # Construct the plot\n",
    "    plot = ig.Plot(out_file, bbox=(width,height), background=\"white\")\n",
    "    plot.add(g, bbox=(1*unit, 1*unit, width-7*unit, height-1*unit),layout=l,\n",
    "             vertex_size=g.vs['size'])\n",
    "    plot.redraw()\n",
    "    ctx = cr.Context(plot.surface)\n",
    "    # Legend rectangle\n",
    "    n_labels = n_colors + bool(color_col)*1 + n_shapes + bool(shape_col)*1 + 3*bool(size_col)\n",
    "    rect_height = label_h*(n_labels)\n",
    "    rect_width = 3*unit # Change if the label is too long/short\n",
    "    coord = (19*unit,9*unit-rect_height/2) # standing coordinates x,y\n",
    "    ctx.rectangle(coord[0],coord[1], rect_width, rect_height)\n",
    "    ctx.set_source_rgb(1, 1, 1)\n",
    "    ctx.fill_preserve()\n",
    "    ctx.set_source_rgb(0, 0, 0)\n",
    "    ctx.set_line_width(2)\n",
    "    ctx.stroke()\n",
    "    # Legend items\n",
    "    coord=(coord[0]+label_h,coord[1] + label_h)\n",
    "    # Shape items\n",
    "    if shape_col:\n",
    "        for s in range(n_shapes):\n",
    "            funcs[s](ctx,coord,size)\n",
    "            coord = (coord[0] + 1.5*size,coord[1]+0.85*size)\n",
    "            draw_text(ctx,str(shape_labels[s]),coord,size)\n",
    "            coord = (coord[0]-1.5*size,coord[1]+1.15*size)\n",
    "        coord = (coord[0],coord[1]+size)\n",
    "    # Color items\n",
    "#     if custom_color:\n",
    "#         for k,v in val2col.items():\n",
    "#             #RGB = getcolor(v, \"RGB\")\n",
    "#             draw_circle(ctx,coord,size,in_color=(v[0],v[1],v[2]),\n",
    "#                        line_color=(v[0],v[1],v[2]))\n",
    "#             coord = (coord[0]+1.5*size,coord[1]+0.85*size)\n",
    "#             draw_text(ctx,str(k),coord,size)\n",
    "#             coord = (coord[0]-1.5*size,coord[1]+1.15*size)\n",
    "#         coord = (coord[0],coord[1]+size)\n",
    "    if color_col:\n",
    "        for l,v in label2RGB.items():\n",
    "            draw_circle(ctx,coord,size,in_color=(v[0],v[1],v[2]),\n",
    "                       line_color=(v[0],v[1],v[2]))\n",
    "            coord = (coord[0]+1.5*size,coord[1]+0.85*size)\n",
    "            draw_text(ctx,str(l),coord,size)\n",
    "            coord = (coord[0]-1.5*size,coord[1]+1.15*size)\n",
    "        coord = (coord[0],coord[1]+size)\n",
    "    # Size items\n",
    "    if size_col:\n",
    "        coord= (coord[0]+0.25*size,coord[1]+0.25*size)\n",
    "        draw_circle(ctx,coord,min_node_size)\n",
    "        coord = (coord[0]+4.5*size,coord[1]+0.6*size)\n",
    "        draw_text(ctx,str(DF[size_col].min()),coord,size)\n",
    "        \n",
    "        coord = (coord[0]-6.25*size,coord[1]+1.15*size)\n",
    "        draw_circle(ctx,coord,max_node_size,line_width = 0.05*size)\n",
    "        coord = (coord[0]+3*label_h,coord[1]+label_h)\n",
    "        draw_text(ctx,str(DF[size_col].max()),coord,size)\n",
    "    # Save the plot\n",
    "    plot.save()\n",
    "else:\n",
    "    visual_style = {\n",
    "        'bbox' : (0, 0, 600, 600),\n",
    "        'layout' : l,\n",
    "        \"margin\": 20,\n",
    "        \"autocurve\" : False\n",
    "        #'edge_width' : g.es['width'],\n",
    "    }\n",
    "    ig.plot(g,target=out_file,**visual_style)"
   ]
  },
  {
   "cell_type": "code",
   "execution_count": null,
   "id": "7750a4e7",
   "metadata": {},
   "outputs": [],
   "source": []
  },
  {
   "cell_type": "code",
   "execution_count": null,
   "id": "ec4e6c76",
   "metadata": {},
   "outputs": [],
   "source": []
  }
 ],
 "metadata": {
  "kernelspec": {
   "display_name": "flower",
   "language": "python",
   "name": "flower"
  },
  "language_info": {
   "codemirror_mode": {
    "name": "ipython",
    "version": 3
   },
   "file_extension": ".py",
   "mimetype": "text/x-python",
   "name": "python",
   "nbconvert_exporter": "python",
   "pygments_lexer": "ipython3",
   "version": "3.8.12"
  }
 },
 "nbformat": 4,
 "nbformat_minor": 5
}
