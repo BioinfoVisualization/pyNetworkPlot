{
 "cells": [
  {
   "cell_type": "markdown",
   "id": "2cb07892",
   "metadata": {},
   "source": [
    "# pyNetworkPlot"
   ]
  },
  {
   "cell_type": "code",
   "execution_count": 1,
   "id": "82aa4008",
   "metadata": {},
   "outputs": [],
   "source": [
    "import sys, os\n",
    "import numpy as np\n",
    "import pandas as pd\n",
    "from matplotlib import pyplot as plt\n",
    "from polyleven import levenshtein as poly_lev\n",
    "#from collections import defaultdict\n",
    "import igraph as ig\n",
    "import random # layout seed\n",
    "import cairo as cr\n",
    "from igraph.drawing.text import TextDrawer\n",
    "from math import pi # Legend circles"
   ]
  },
  {
   "cell_type": "code",
   "execution_count": 2,
   "id": "4fcd0071",
   "metadata": {},
   "outputs": [],
   "source": [
    "module_path = os.path.abspath(os.path.join('..', 'bin'))\n",
    "if module_path not in sys.path:\n",
    "    sys.path.append(module_path)"
   ]
  },
  {
   "cell_type": "code",
   "execution_count": 3,
   "id": "cb6b9217",
   "metadata": {},
   "outputs": [],
   "source": [
    "# from ../bin\n",
    "import spring_functions as kxs\n",
    "from data_functions import group_with_freq\n",
    "from drawing import *"
   ]
  },
  {
   "cell_type": "markdown",
   "id": "830db574",
   "metadata": {},
   "source": [
    "## Parameters"
   ]
  },
  {
   "cell_type": "code",
   "execution_count": 4,
   "id": "4d5a37f3",
   "metadata": {},
   "outputs": [],
   "source": [
    "pd.set_option('display.max_columns',None)"
   ]
  },
  {
   "cell_type": "markdown",
   "id": "638c7414",
   "metadata": {},
   "source": [
    "#### Data parameters"
   ]
  },
  {
   "cell_type": "code",
   "execution_count": 5,
   "id": "2e896375",
   "metadata": {},
   "outputs": [],
   "source": [
    "out_file = '../results/NETWORK_PLOT.pdf'\n",
    "seq_col = 'sequence'\n",
    "color_col = 'color'\n",
    "shape_col = 'shape'\n",
    "size_col = 'size'\n",
    "#min_seq2show = 0 # integer\n",
    "group_unique = True # Boolean"
   ]
  },
  {
   "cell_type": "markdown",
   "id": "462d718f",
   "metadata": {},
   "source": [
    "#### Figure parameters"
   ]
  },
  {
   "cell_type": "code",
   "execution_count": 6,
   "id": "f2c20a90",
   "metadata": {},
   "outputs": [],
   "source": [
    "# Similarity threshold\n",
    "similarity = 0 # non-negative integer\n",
    "max_node_size=50\n",
    "min_node_size=5\n",
    "layout_name = 'FR' # Can be FR, DH, DrL, GO, LgL, MDS\n",
    "legend = True\n",
    "unit=50\n",
    "edge_width = 1.5"
   ]
  },
  {
   "cell_type": "code",
   "execution_count": 7,
   "id": "581735a6",
   "metadata": {},
   "outputs": [],
   "source": [
    "in_file = '../data/test_data.tsv'\n",
    "file_type = in_file.split('.')[-1]\n",
    "if file_type == 'tsv':\n",
    "    DF = pd.read_csv(in_file,sep='\\t',index_col=0).reset_index(drop=True)\n",
    "elif file_type == 'xlsx':\n",
    "    DF = pd.read_excel(in_file,index_col=0)\n",
    "elif file_type == 'csv':\n",
    "    DF = pd.read_csv(in_file,sep=',',index_col=0).reset_index(drop=True)\n",
    "else:\n",
    "    raise NameError(\"Invalid input format. Has to be either .tsv, .csv or .xlsx.\")"
   ]
  },
  {
   "cell_type": "code",
   "execution_count": 8,
   "id": "faaa8b34",
   "metadata": {},
   "outputs": [
    {
     "data": {
      "text/html": [
       "<div>\n",
       "<style scoped>\n",
       "    .dataframe tbody tr th:only-of-type {\n",
       "        vertical-align: middle;\n",
       "    }\n",
       "\n",
       "    .dataframe tbody tr th {\n",
       "        vertical-align: top;\n",
       "    }\n",
       "\n",
       "    .dataframe thead th {\n",
       "        text-align: right;\n",
       "    }\n",
       "</style>\n",
       "<table border=\"1\" class=\"dataframe\">\n",
       "  <thead>\n",
       "    <tr style=\"text-align: right;\">\n",
       "      <th></th>\n",
       "      <th>sequence</th>\n",
       "      <th>color</th>\n",
       "      <th>shape</th>\n",
       "      <th>size</th>\n",
       "      <th>freq_sequence</th>\n",
       "      <th>group_sequence</th>\n",
       "    </tr>\n",
       "  </thead>\n",
       "  <tbody>\n",
       "    <tr>\n",
       "      <th>0</th>\n",
       "      <td>GCTTCCGTTGCTCTTT</td>\n",
       "      <td>4</td>\n",
       "      <td>MUSL</td>\n",
       "      <td>8</td>\n",
       "      <td>6</td>\n",
       "      <td>0</td>\n",
       "    </tr>\n",
       "    <tr>\n",
       "      <th>1</th>\n",
       "      <td>GCTTCCGTTGCTCTTT</td>\n",
       "      <td>4</td>\n",
       "      <td>PB</td>\n",
       "      <td>7</td>\n",
       "      <td>6</td>\n",
       "      <td>0</td>\n",
       "    </tr>\n",
       "    <tr>\n",
       "      <th>2</th>\n",
       "      <td>GCTTCCGTTGCTCTTT</td>\n",
       "      <td>3</td>\n",
       "      <td>PB</td>\n",
       "      <td>8</td>\n",
       "      <td>6</td>\n",
       "      <td>0</td>\n",
       "    </tr>\n",
       "    <tr>\n",
       "      <th>3</th>\n",
       "      <td>GCTTCCGTTGCTCTTT</td>\n",
       "      <td>8</td>\n",
       "      <td>MUSL</td>\n",
       "      <td>15</td>\n",
       "      <td>6</td>\n",
       "      <td>0</td>\n",
       "    </tr>\n",
       "    <tr>\n",
       "      <th>4</th>\n",
       "      <td>GCTTCCGTTGCTCTTT</td>\n",
       "      <td>7</td>\n",
       "      <td>BM</td>\n",
       "      <td>7</td>\n",
       "      <td>6</td>\n",
       "      <td>0</td>\n",
       "    </tr>\n",
       "    <tr>\n",
       "      <th>...</th>\n",
       "      <td>...</td>\n",
       "      <td>...</td>\n",
       "      <td>...</td>\n",
       "      <td>...</td>\n",
       "      <td>...</td>\n",
       "      <td>...</td>\n",
       "    </tr>\n",
       "    <tr>\n",
       "      <th>145</th>\n",
       "      <td>CCGTAGACTTTT</td>\n",
       "      <td>7</td>\n",
       "      <td>BM</td>\n",
       "      <td>15</td>\n",
       "      <td>1</td>\n",
       "      <td>45</td>\n",
       "    </tr>\n",
       "    <tr>\n",
       "      <th>146</th>\n",
       "      <td>AGTCCGACTCATCTGA</td>\n",
       "      <td>9</td>\n",
       "      <td>MUSL</td>\n",
       "      <td>6</td>\n",
       "      <td>1</td>\n",
       "      <td>45</td>\n",
       "    </tr>\n",
       "    <tr>\n",
       "      <th>147</th>\n",
       "      <td>AGTAGGATAGTTCCCTAGCG</td>\n",
       "      <td>10</td>\n",
       "      <td>PB</td>\n",
       "      <td>3</td>\n",
       "      <td>1</td>\n",
       "      <td>45</td>\n",
       "    </tr>\n",
       "    <tr>\n",
       "      <th>148</th>\n",
       "      <td>ACGCACCATCCCAGGGTTTAGC</td>\n",
       "      <td>6</td>\n",
       "      <td>BM</td>\n",
       "      <td>9</td>\n",
       "      <td>1</td>\n",
       "      <td>45</td>\n",
       "    </tr>\n",
       "    <tr>\n",
       "      <th>149</th>\n",
       "      <td>AAGTGGATTCAACGTG</td>\n",
       "      <td>6</td>\n",
       "      <td>MUSL</td>\n",
       "      <td>3</td>\n",
       "      <td>1</td>\n",
       "      <td>45</td>\n",
       "    </tr>\n",
       "  </tbody>\n",
       "</table>\n",
       "<p>150 rows × 6 columns</p>\n",
       "</div>"
      ],
      "text/plain": [
       "                   sequence  color shape  size  freq_sequence  group_sequence\n",
       "0          GCTTCCGTTGCTCTTT      4  MUSL     8              6               0\n",
       "1          GCTTCCGTTGCTCTTT      4    PB     7              6               0\n",
       "2          GCTTCCGTTGCTCTTT      3    PB     8              6               0\n",
       "3          GCTTCCGTTGCTCTTT      8  MUSL    15              6               0\n",
       "4          GCTTCCGTTGCTCTTT      7    BM     7              6               0\n",
       "..                      ...    ...   ...   ...            ...             ...\n",
       "145            CCGTAGACTTTT      7    BM    15              1              45\n",
       "146        AGTCCGACTCATCTGA      9  MUSL     6              1              45\n",
       "147    AGTAGGATAGTTCCCTAGCG     10    PB     3              1              45\n",
       "148  ACGCACCATCCCAGGGTTTAGC      6    BM     9              1              45\n",
       "149        AAGTGGATTCAACGTG      6  MUSL     3              1              45\n",
       "\n",
       "[150 rows x 6 columns]"
      ]
     },
     "execution_count": 8,
     "metadata": {},
     "output_type": "execute_result"
    }
   ],
   "source": [
    "DF = group_with_freq(DF,seq_col,\\\n",
    "                     group_unique).sort_values(['freq_'+seq_col,seq_col],\\\n",
    "                                               ascending=False).reset_index(drop=True)\n",
    "DF.loc[DF['group_'+seq_col]==-1,'group_'+seq_col]=DF['group_'+seq_col].max()+1\n",
    "DF"
   ]
  },
  {
   "cell_type": "markdown",
   "id": "074e7957",
   "metadata": {},
   "source": [
    "# II. Distance matrix calculation"
   ]
  },
  {
   "cell_type": "code",
   "execution_count": 9,
   "id": "c914e0de",
   "metadata": {
    "scrolled": true
   },
   "outputs": [
    {
     "name": "stdout",
     "output_type": "stream",
     "text": [
      "0.00 % completed\n",
      "1.33 % completed\n",
      "2.67 % completed\n",
      "4.00 % completed\n",
      "5.33 % completed\n",
      "6.67 % completed\n",
      "8.00 % completed\n",
      "9.33 % completed\n",
      "10.67 % completed\n",
      "12.00 % completed\n",
      "13.33 % completed\n",
      "14.67 % completed\n",
      "16.00 % completed\n",
      "17.33 % completed\n",
      "18.67 % completed\n",
      "20.00 % completed\n",
      "21.33 % completed\n",
      "22.67 % completed\n",
      "24.00 % completed\n",
      "25.33 % completed\n",
      "26.67 % completed\n",
      "28.00 % completed\n",
      "29.33 % completed\n",
      "30.67 % completed\n",
      "32.00 % completed\n",
      "33.33 % completed\n",
      "34.67 % completed\n",
      "36.00 % completed\n",
      "37.33 % completed\n",
      "38.67 % completed\n",
      "40.00 % completed\n",
      "41.33 % completed\n",
      "42.67 % completed\n",
      "44.00 % completed\n",
      "45.33 % completed\n",
      "46.67 % completed\n",
      "48.00 % completed\n",
      "49.33 % completed\n",
      "50.67 % completed\n",
      "52.00 % completed\n",
      "53.33 % completed\n",
      "54.67 % completed\n",
      "56.00 % completed\n",
      "57.33 % completed\n",
      "58.67 % completed\n",
      "60.00 % completed\n",
      "61.33 % completed\n",
      "62.67 % completed\n",
      "64.00 % completed\n",
      "65.33 % completed\n",
      "66.67 % completed\n",
      "68.00 % completed\n",
      "69.33 % completed\n",
      "70.67 % completed\n",
      "72.00 % completed\n",
      "73.33 % completed\n",
      "74.67 % completed\n",
      "76.00 % completed\n",
      "77.33 % completed\n",
      "78.67 % completed\n",
      "80.00 % completed\n",
      "81.33 % completed\n",
      "82.67 % completed\n",
      "84.00 % completed\n",
      "85.33 % completed\n",
      "86.67 % completed\n",
      "88.00 % completed\n",
      "89.33 % completed\n",
      "90.67 % completed\n",
      "92.00 % completed\n",
      "93.33 % completed\n",
      "94.67 % completed\n",
      "96.00 % completed\n",
      "97.33 % completed\n",
      "98.67 % completed\n"
     ]
    }
   ],
   "source": [
    "seqs = DF[seq_col].values\n",
    "#idx2seq = {i:seq for i,seq in enumerate(seqs)}\n",
    "L = len(seqs)\n",
    "dist = np.zeros([L,L])\n",
    "t = np.ceil(L/100)\n",
    "for i in range(L):\n",
    "    for j in range(L):\n",
    "        dist[i,j]=poly_lev(seqs[i],seqs[j])\n",
    "    if i%t==0:\n",
    "        print(\"%.2f %% completed\"%(i*100/L))"
   ]
  },
  {
   "cell_type": "code",
   "execution_count": 10,
   "id": "95921d56",
   "metadata": {},
   "outputs": [],
   "source": [
    "# Definite adjacency and weight matrices\n",
    "eps = 0.1 # Distance delta\n",
    "adj = dist.copy()\n",
    "adj[adj<=similarity]=-1\n",
    "adj[adj>similarity]=0\n",
    "adj[adj==-1]=1\n",
    "W = np.multiply(adj,dist+eps)"
   ]
  },
  {
   "cell_type": "code",
   "execution_count": 11,
   "id": "43cd7d23",
   "metadata": {},
   "outputs": [
    {
     "data": {
      "text/plain": [
       "<matplotlib.colorbar.Colorbar at 0x7f959985edf0>"
      ]
     },
     "execution_count": 11,
     "metadata": {},
     "output_type": "execute_result"
    },
    {
     "data": {
      "image/png": "[encoded data removed]",
      "text/plain": [
       "<Figure size 432x288 with 2 Axes>"
      ]
     },
     "metadata": {
      "needs_background": "light"
     },
     "output_type": "display_data"
    }
   ],
   "source": [
    "plt.imshow(dist)\n",
    "plt.colorbar()"
   ]
  },
  {
   "cell_type": "markdown",
   "id": "ac87dce6",
   "metadata": {},
   "source": [
    "# III. Graph generation and plotting"
   ]
  },
  {
   "cell_type": "code",
   "execution_count": 12,
   "id": "c0126eec",
   "metadata": {},
   "outputs": [],
   "source": [
    "# Create graph object\n",
    "g = ig.Graph.Weighted_Adjacency(W,mode='undirected',attr='distance',loops=False)"
   ]
  },
  {
   "cell_type": "markdown",
   "id": "09687f26",
   "metadata": {},
   "source": [
    "### Node metadata"
   ]
  },
  {
   "cell_type": "code",
   "execution_count": 13,
   "id": "c97a1fe3",
   "metadata": {},
   "outputs": [],
   "source": [
    "# Assigns a cluster value based on connected subgraphs. Useful for spring weight\n",
    "g.vs['cluster'] = DF.loc[:,'group_'+seq_col]\n",
    "g.vs['freq'] = DF.loc[:,'freq_'+seq_col]"
   ]
  },
  {
   "cell_type": "markdown",
   "id": "ee5225d4",
   "metadata": {},
   "source": [
    "### Node color\n",
    "Define the fields `plot_label`, which will be the label in the legend of the plot, and `color` for each node. Depending on the type of label, the colouring and the labels will be different."
   ]
  },
  {
   "cell_type": "code",
   "execution_count": 14,
   "id": "26e949b2",
   "metadata": {},
   "outputs": [],
   "source": [
    "color_label = DF.loc[:,color_col].values\n",
    "## COLOR PALETTE ##\n",
    "# Define unique group labels\n",
    "_, idx = np.unique(color_label,return_index=True)\n",
    "labs = color_label[np.sort(idx)]\n",
    "n_colors = len(labs)\n",
    "# Create color pallete based on number of groups\n",
    "pal = ig.drawing.colors.ClusterColoringPalette(n_colors)\n",
    "label2RGB = {l:pal.get_many(c)[0] for c,l in enumerate(labs)} # Numbering each label\n",
    "g.vs['color'] = [label2RGB[l] for l in color_label]"
   ]
  },
  {
   "cell_type": "markdown",
   "id": "c971432d",
   "metadata": {},
   "source": [
    "### Node shape"
   ]
  },
  {
   "cell_type": "code",
   "execution_count": 15,
   "id": "192a11f4",
   "metadata": {},
   "outputs": [],
   "source": [
    "shapes = ['circle','rectangle','triangle-up','triangle-down','diamond']"
   ]
  },
  {
   "cell_type": "code",
   "execution_count": 16,
   "id": "e0f5809f",
   "metadata": {},
   "outputs": [],
   "source": [
    "shape_labels = DF[shape_col].unique()\n",
    "n_shapes = len(shape_labels)\n",
    "if n_shapes > 5:\n",
    "    raise ValueError('There can not be more than 5 shapes.')\n",
    "else:\n",
    "    shapes = shapes[:n_shapes]\n",
    "    shape_dic = {shape_labels[i]:shapes[i] for i in range(n_shapes)}"
   ]
  },
  {
   "cell_type": "code",
   "execution_count": 17,
   "id": "dc0c113a",
   "metadata": {},
   "outputs": [],
   "source": [
    "g.vs['shape'] = DF.loc[:,shape_col].replace(shape_dic)"
   ]
  },
  {
   "cell_type": "markdown",
   "id": "6aea372c",
   "metadata": {},
   "source": [
    "### Node size"
   ]
  },
  {
   "cell_type": "code",
   "execution_count": 18,
   "id": "c387b8c5",
   "metadata": {},
   "outputs": [],
   "source": [
    "if size_col==None:\n",
    "    S = 20\n",
    "else:\n",
    "    S = DF[size_col].values\n",
    "    S = (S-np.min(S))/(np.max(S)-np.min(S))*(max_node_size-min_node_size)+min_node_size\n",
    "g.vs['size'] = S"
   ]
  },
  {
   "cell_type": "markdown",
   "id": "b72d57f8",
   "metadata": {},
   "source": [
    "### Graph layout\n",
    "Creates a layout with the algorithm given by the keyword `layout_name` "
   ]
  },
  {
   "cell_type": "code",
   "execution_count": 19,
   "id": "ab09edbc",
   "metadata": {},
   "outputs": [],
   "source": [
    "# Initialize layout with a seed (reproducibility)\n",
    "#random.seed(42)\n",
    "np.random.seed(42)\n",
    "layout_seed = np.random.random([len(g.vs),2])"
   ]
  },
  {
   "cell_type": "markdown",
   "id": "2b26b2ba",
   "metadata": {},
   "source": [
    "# ToDo: Implement MDS and LgL"
   ]
  },
  {
   "cell_type": "code",
   "execution_count": 20,
   "id": "061ec42f",
   "metadata": {},
   "outputs": [],
   "source": [
    "# Reingold-Fruchterman\n",
    "if layout_name == 'FR':\n",
    "    niter = 5000\n",
    "    weights = kxs.prop_log_weights(g)\n",
    "    g.es['weights'] = weights\n",
    "    l = g.layout_fruchterman_reingold(weights=weights,\\\n",
    "                                      seed=layout_seed,niter=niter)\n",
    "# Davidson-Harel\n",
    "elif layout_name == 'DH':\n",
    "    maxiter = 80\n",
    "    fineiter = 15\n",
    "    cool_fact = 0.95\n",
    "    weight_node_dist = 1000\n",
    "    weight_border = 20000000\n",
    "    weight_edge_lengths = 0.1\n",
    "    weight_edge_crossings = 1000\n",
    "    weight_node_edge_dist = 10000\n",
    "    l = g.layout_davidson_harel(seed=layout_seed, maxiter=maxiter, fineiter=fineiter,\\\n",
    "                                       cool_fact=cool_fact, weight_node_dist=weight_node_dist,\\\n",
    "                                       weight_border=weight_border,\\\n",
    "                                       weight_edge_lengths=weight_edge_lengths,\\\n",
    "                                       weight_edge_crossings=weight_edge_crossings,\\\n",
    "                                       weight_node_edge_dist=weight_node_edge_dist)\n",
    "# Graphopt\n",
    "elif layout_name == 'GO':\n",
    "    niter = 500\n",
    "    node_charge = 0.03\n",
    "    node_mass = 5\n",
    "    spring_length = 5\n",
    "    spring_constant = 0.5\n",
    "    max_sa_movement = 12\n",
    "    l = g.layout_graphopt(niter=niter, node_charge=node_charge, node_mass=node_mass,\\\n",
    "                          spring_length=spring_length, spring_constant=spring_constant,\\\n",
    "                          max_sa_movement=max_sa_movement, seed=layout_seed)"
   ]
  },
  {
   "cell_type": "code",
   "execution_count": 21,
   "id": "d0b6d4a2",
   "metadata": {},
   "outputs": [
    {
     "data": {
      "text/html": [
       "<div>\n",
       "<style scoped>\n",
       "    .dataframe tbody tr th:only-of-type {\n",
       "        vertical-align: middle;\n",
       "    }\n",
       "\n",
       "    .dataframe tbody tr th {\n",
       "        vertical-align: top;\n",
       "    }\n",
       "\n",
       "    .dataframe thead th {\n",
       "        text-align: right;\n",
       "    }\n",
       "</style>\n",
       "<table border=\"1\" class=\"dataframe\">\n",
       "  <thead>\n",
       "    <tr style=\"text-align: right;\">\n",
       "      <th></th>\n",
       "      <th>cluster</th>\n",
       "      <th>freq</th>\n",
       "      <th>color</th>\n",
       "      <th>shape</th>\n",
       "      <th>size</th>\n",
       "    </tr>\n",
       "    <tr>\n",
       "      <th>vertex ID</th>\n",
       "      <th></th>\n",
       "      <th></th>\n",
       "      <th></th>\n",
       "      <th></th>\n",
       "      <th></th>\n",
       "    </tr>\n",
       "  </thead>\n",
       "  <tbody>\n",
       "    <tr>\n",
       "      <th>0</th>\n",
       "      <td>0</td>\n",
       "      <td>6</td>\n",
       "      <td>(1.0, 0.0, 0.0, 1.0)</td>\n",
       "      <td>circle</td>\n",
       "      <td>23.75</td>\n",
       "    </tr>\n",
       "    <tr>\n",
       "      <th>1</th>\n",
       "      <td>0</td>\n",
       "      <td>6</td>\n",
       "      <td>(1.0, 0.0, 0.0, 1.0)</td>\n",
       "      <td>rectangle</td>\n",
       "      <td>20.00</td>\n",
       "    </tr>\n",
       "    <tr>\n",
       "      <th>2</th>\n",
       "      <td>0</td>\n",
       "      <td>6</td>\n",
       "      <td>(0.0, 1.0, 0.0, 1.0)</td>\n",
       "      <td>rectangle</td>\n",
       "      <td>23.75</td>\n",
       "    </tr>\n",
       "    <tr>\n",
       "      <th>3</th>\n",
       "      <td>0</td>\n",
       "      <td>6</td>\n",
       "      <td>(0.0, 0.0, 1.0, 1.0)</td>\n",
       "      <td>circle</td>\n",
       "      <td>50.00</td>\n",
       "    </tr>\n",
       "    <tr>\n",
       "      <th>4</th>\n",
       "      <td>0</td>\n",
       "      <td>6</td>\n",
       "      <td>(1.0, 1.0, 0.0, 1.0)</td>\n",
       "      <td>triangle-up</td>\n",
       "      <td>20.00</td>\n",
       "    </tr>\n",
       "    <tr>\n",
       "      <th>...</th>\n",
       "      <td>...</td>\n",
       "      <td>...</td>\n",
       "      <td>...</td>\n",
       "      <td>...</td>\n",
       "      <td>...</td>\n",
       "    </tr>\n",
       "    <tr>\n",
       "      <th>145</th>\n",
       "      <td>45</td>\n",
       "      <td>1</td>\n",
       "      <td>(1.0, 1.0, 0.0, 1.0)</td>\n",
       "      <td>triangle-up</td>\n",
       "      <td>50.00</td>\n",
       "    </tr>\n",
       "    <tr>\n",
       "      <th>146</th>\n",
       "      <td>45</td>\n",
       "      <td>1</td>\n",
       "      <td>(1.0, 0.0, 1.0, 1.0)</td>\n",
       "      <td>circle</td>\n",
       "      <td>16.25</td>\n",
       "    </tr>\n",
       "    <tr>\n",
       "      <th>147</th>\n",
       "      <td>45</td>\n",
       "      <td>1</td>\n",
       "      <td>(0.5, 0.0, 0.0, 1.0)</td>\n",
       "      <td>rectangle</td>\n",
       "      <td>5.00</td>\n",
       "    </tr>\n",
       "    <tr>\n",
       "      <th>148</th>\n",
       "      <td>45</td>\n",
       "      <td>1</td>\n",
       "      <td>(0.0, 0.5, 0.0, 1.0)</td>\n",
       "      <td>triangle-up</td>\n",
       "      <td>27.50</td>\n",
       "    </tr>\n",
       "    <tr>\n",
       "      <th>149</th>\n",
       "      <td>45</td>\n",
       "      <td>1</td>\n",
       "      <td>(0.0, 0.5, 0.0, 1.0)</td>\n",
       "      <td>circle</td>\n",
       "      <td>5.00</td>\n",
       "    </tr>\n",
       "  </tbody>\n",
       "</table>\n",
       "<p>150 rows × 5 columns</p>\n",
       "</div>"
      ],
      "text/plain": [
       "           cluster  freq                 color        shape   size\n",
       "vertex ID                                                         \n",
       "0                0     6  (1.0, 0.0, 0.0, 1.0)       circle  23.75\n",
       "1                0     6  (1.0, 0.0, 0.0, 1.0)    rectangle  20.00\n",
       "2                0     6  (0.0, 1.0, 0.0, 1.0)    rectangle  23.75\n",
       "3                0     6  (0.0, 0.0, 1.0, 1.0)       circle  50.00\n",
       "4                0     6  (1.0, 1.0, 0.0, 1.0)  triangle-up  20.00\n",
       "...            ...   ...                   ...          ...    ...\n",
       "145             45     1  (1.0, 1.0, 0.0, 1.0)  triangle-up  50.00\n",
       "146             45     1  (1.0, 0.0, 1.0, 1.0)       circle  16.25\n",
       "147             45     1  (0.5, 0.0, 0.0, 1.0)    rectangle   5.00\n",
       "148             45     1  (0.0, 0.5, 0.0, 1.0)  triangle-up  27.50\n",
       "149             45     1  (0.0, 0.5, 0.0, 1.0)       circle   5.00\n",
       "\n",
       "[150 rows x 5 columns]"
      ]
     },
     "execution_count": 21,
     "metadata": {},
     "output_type": "execute_result"
    }
   ],
   "source": [
    "g.get_vertex_dataframe()"
   ]
  },
  {
   "cell_type": "code",
   "execution_count": 22,
   "id": "b7e87a41",
   "metadata": {},
   "outputs": [
    {
     "data": {
      "text/plain": [
       "3"
      ]
     },
     "execution_count": 22,
     "metadata": {},
     "output_type": "execute_result"
    }
   ],
   "source": [
    "DF[size_col].min()"
   ]
  },
  {
   "cell_type": "code",
   "execution_count": 23,
   "id": "b6f47e25",
   "metadata": {},
   "outputs": [
    {
     "data": {
      "text/plain": [
       "15"
      ]
     },
     "execution_count": 23,
     "metadata": {},
     "output_type": "execute_result"
    }
   ],
   "source": [
    "DF[size_col].max()"
   ]
  },
  {
   "cell_type": "code",
   "execution_count": 24,
   "id": "2afedbf8",
   "metadata": {},
   "outputs": [],
   "source": [
    "funcs = [draw_circle,draw_square,draw_triangle_up,draw_triangle_down,draw_diamond]"
   ]
  },
  {
   "cell_type": "markdown",
   "id": "0e2c403d",
   "metadata": {},
   "source": [
    "#### Plot generation"
   ]
  },
  {
   "cell_type": "code",
   "execution_count": 25,
   "id": "90880b3f",
   "metadata": {},
   "outputs": [],
   "source": [
    "# IV. Plot generation\n",
    "if legend:\n",
    "    label_h = 0.5*unit\n",
    "    size = 0.25*unit\n",
    "    width,height = (24*unit,18*unit)\n",
    "    # Construct the plot\n",
    "    plot = ig.Plot(out_file, bbox=(width,height), background=\"white\")\n",
    "    plot.add(g, bbox=(1*unit, 1*unit, width-7*unit, height-1*unit),layout=l,\n",
    "             vertex_size=g.vs['size'])\n",
    "    plot.redraw()\n",
    "    ctx = cr.Context(plot.surface)\n",
    "    # Legend rectangle\n",
    "    n_labels = n_colors + bool(color_col)*1 + n_shapes + bool(shape_col)*1 + 3*bool(shape_col)\n",
    "    rect_height = label_h*(n_labels+1)\n",
    "    rect_width = 3*unit # Change if the label is too long/short\n",
    "    coord = (19*unit,9*unit-rect_height/2) # standing coordinates x,y\n",
    "    ctx.rectangle(coord[0],coord[1], rect_width, rect_height)\n",
    "    ctx.set_source_rgb(1, 1, 1)\n",
    "    ctx.fill_preserve()\n",
    "    ctx.set_source_rgb(0, 0, 0)\n",
    "    ctx.set_line_width(2)\n",
    "    ctx.stroke()\n",
    "    # Legend items\n",
    "    coord=(coord[0]+label_h,coord[1] + label_h)\n",
    "    # Shape items\n",
    "    if shape_col:\n",
    "        for s in range(n_shapes):\n",
    "            funcs[s](ctx,coord,size)\n",
    "            coord = (coord[0] + 1.5*size,coord[1]+0.85*size)\n",
    "            draw_text(ctx,str(shape_labels[s]),coord,size)\n",
    "            coord = (coord[0]-1.5*size,coord[1]+1.15*size)\n",
    "        coord = (coord[0],coord[1]+size)\n",
    "    # Color items\n",
    "    if color_col:\n",
    "        for l in label2RGB.keys():\n",
    "            draw_circle(ctx,coord,size,in_color=(label2RGB[l][0],label2RGB[l][1],label2RGB[l][2]),\n",
    "                       line_color=(label2RGB[l][0],label2RGB[l][1],label2RGB[l][2]))\n",
    "            coord = (coord[0]+1.5*size,coord[1]+0.85*size)\n",
    "            draw_text(ctx,str(l),coord,size)\n",
    "            coord = (coord[0]-1.5*size,coord[1]+1.15*size)\n",
    "        coord = (coord[0],coord[1]+size)\n",
    "    # Size items\n",
    "    if size_col:\n",
    "        coord= (coord[0]+0.25*size,coord[1]+0.25*size)\n",
    "        draw_circle(ctx,coord,min_node_size)\n",
    "        coord = (coord[0]+4.5*size,coord[1]+0.6*size)\n",
    "        draw_text(ctx,str(DF[size_col].min()),coord,size)\n",
    "        \n",
    "        coord = (coord[0]-6.25*size,coord[1]+1.15*size)\n",
    "        draw_circle(ctx,coord,max_node_size,line_width = 0.05*size)\n",
    "        coord = (coord[0]+3*label_h,coord[1]+label_h)\n",
    "        draw_text(ctx,str(DF[size_col].max()),coord,size)\n",
    "    # Save the plot\n",
    "    plot.save()\n",
    "else:\n",
    "    visual_style = {\n",
    "        'bbox' : (0, 0, 600, 600),\n",
    "        'layout' : l,\n",
    "        \"margin\": 20,\n",
    "        \"autocurve\" : False\n",
    "        #'edge_width' : g.es['width'],\n",
    "    }\n",
    "    ig.plot(g,target=out_file,**visual_style)"
   ]
  },
  {
   "cell_type": "code",
   "execution_count": null,
   "id": "7750a4e7",
   "metadata": {},
   "outputs": [],
   "source": []
  }
 ],
 "metadata": {
  "kernelspec": {
   "display_name": "flower",
   "language": "python",
   "name": "flower"
  },
  "language_info": {
   "codemirror_mode": {
    "name": "ipython",
    "version": 3
   },
   "file_extension": ".py",
   "mimetype": "text/x-python",
   "name": "python",
   "nbconvert_exporter": "python",
   "pygments_lexer": "ipython3",
   "version": "3.8.12"
  }
 },
 "nbformat": 4,
 "nbformat_minor": 5
}
